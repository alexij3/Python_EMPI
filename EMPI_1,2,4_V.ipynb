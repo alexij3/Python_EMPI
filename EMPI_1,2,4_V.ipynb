{
  "nbformat": 4,
  "nbformat_minor": 0,
  "metadata": {
    "colab": {
      "name": "EMPI #1,2,4_V.ipynb",
      "version": "0.3.2",
      "provenance": [],
      "collapsed_sections": [
        "dHN-7bxAflSU",
        "BmMSUzackiUL",
        "CKNybgD-qBqR",
        "jYlnxceM2gAw",
        "powJe40l_Fkt",
        "d-3yNgHG-YTp",
        "vzI5zdp--07-",
        "w2nHkdqx-h-5",
        "TYJkJEjz99yS",
        "b0WWS4Qz-Fkw",
        "YP4t4sX2-LrG",
        "uN0xjPr5-_A2",
        "lEcM2eW39wnD"
      ],
      "toc_visible": true,
      "include_colab_link": true
    },
    "kernelspec": {
      "name": "python3",
      "display_name": "Python 3"
    }
  },
  "cells": [
    {
      "cell_type": "markdown",
      "metadata": {
        "id": "view-in-github",
        "colab_type": "text"
      },
      "source": [
        "<a href=\"https://colab.research.google.com/github/vyshyvanv/Python_EMPI/blob/master/EMPI_1,2,4_V.ipynb\" target=\"_parent\"><img src=\"https://colab.research.google.com/assets/colab-badge.svg\" alt=\"Open In Colab\"/></a>"
      ]
    },
    {
      "metadata": {
        "id": "lpq3OMAcYI1p",
        "colab_type": "text"
      },
      "cell_type": "markdown",
      "source": [
        "# Частина 1"
      ]
    },
    {
      "metadata": {
        "id": "geyUZP30YPed",
        "colab_type": "text"
      },
      "cell_type": "markdown",
      "source": [
        "## Підготовка даних\n"
      ]
    },
    {
      "metadata": {
        "id": "efmfwhgyi8D8",
        "colab_type": "text"
      },
      "cell_type": "markdown",
      "source": [
        "**Підключення датасету**"
      ]
    },
    {
      "metadata": {
        "id": "xukl3PwnYHAS",
        "colab_type": "code",
        "outputId": "1dcad83e-ca26-4718-e635-cfcc612e12e0",
        "colab": {
          "base_uri": "https://localhost:8080/",
          "height": 1419
        }
      },
      "cell_type": "code",
      "source": [
        "import pandas as pd\n",
        "import numpy\n",
        "\n",
        "url = \"https://raw.githubusercontent.com/vyshyvanv/datasets/master/Fortnite_Weapon_Damage.csv\"\n",
        "\n",
        "df = pd.read_csv(url)\n",
        "df.index += 1\n",
        "df"
      ],
      "execution_count": 0,
      "outputs": [
        {
          "output_type": "execute_result",
          "data": {
            "text/html": [
              "<div>\n",
              "<style scoped>\n",
              "    .dataframe tbody tr th:only-of-type {\n",
              "        vertical-align: middle;\n",
              "    }\n",
              "\n",
              "    .dataframe tbody tr th {\n",
              "        vertical-align: top;\n",
              "    }\n",
              "\n",
              "    .dataframe thead th {\n",
              "        text-align: right;\n",
              "    }\n",
              "</style>\n",
              "<table border=\"1\" class=\"dataframe\">\n",
              "  <thead>\n",
              "    <tr style=\"text-align: right;\">\n",
              "      <th></th>\n",
              "      <th>Name</th>\n",
              "      <th>Rarity</th>\n",
              "      <th>Fire Rate</th>\n",
              "      <th>Mag Size</th>\n",
              "      <th>Reload Time</th>\n",
              "      <th>Multiplier</th>\n",
              "      <th>Damage (Body)</th>\n",
              "      <th>Damage (Head)</th>\n",
              "      <th>DPS (Body)</th>\n",
              "      <th>DPS (Head)</th>\n",
              "      <th>Shots/Kill Avg (Body)</th>\n",
              "      <th>Shots/Kill Avg (Head)</th>\n",
              "    </tr>\n",
              "  </thead>\n",
              "  <tbody>\n",
              "    <tr>\n",
              "      <th>1</th>\n",
              "      <td>Assault Rifle (M4)</td>\n",
              "      <td>Common</td>\n",
              "      <td>5.50</td>\n",
              "      <td>30</td>\n",
              "      <td>2.3</td>\n",
              "      <td>2.0</td>\n",
              "      <td>30</td>\n",
              "      <td>60.0</td>\n",
              "      <td>165.00</td>\n",
              "      <td>330.000</td>\n",
              "      <td>4.75</td>\n",
              "      <td>2.75</td>\n",
              "    </tr>\n",
              "    <tr>\n",
              "      <th>2</th>\n",
              "      <td>Assault Rifle (M4)</td>\n",
              "      <td>Uncommon</td>\n",
              "      <td>5.50</td>\n",
              "      <td>30</td>\n",
              "      <td>2.2</td>\n",
              "      <td>2.0</td>\n",
              "      <td>31</td>\n",
              "      <td>62.0</td>\n",
              "      <td>170.50</td>\n",
              "      <td>341.000</td>\n",
              "      <td>4.75</td>\n",
              "      <td>2.75</td>\n",
              "    </tr>\n",
              "    <tr>\n",
              "      <th>3</th>\n",
              "      <td>Assault Rifle (M4)</td>\n",
              "      <td>Rare</td>\n",
              "      <td>5.50</td>\n",
              "      <td>30</td>\n",
              "      <td>2.2</td>\n",
              "      <td>2.0</td>\n",
              "      <td>33</td>\n",
              "      <td>66.0</td>\n",
              "      <td>181.50</td>\n",
              "      <td>363.000</td>\n",
              "      <td>4.75</td>\n",
              "      <td>2.75</td>\n",
              "    </tr>\n",
              "    <tr>\n",
              "      <th>4</th>\n",
              "      <td>Assault Rifle (SCAR)</td>\n",
              "      <td>Epic</td>\n",
              "      <td>5.50</td>\n",
              "      <td>30</td>\n",
              "      <td>2.2</td>\n",
              "      <td>2.0</td>\n",
              "      <td>35</td>\n",
              "      <td>70.0</td>\n",
              "      <td>192.50</td>\n",
              "      <td>385.000</td>\n",
              "      <td>4.25</td>\n",
              "      <td>2.50</td>\n",
              "    </tr>\n",
              "    <tr>\n",
              "      <th>5</th>\n",
              "      <td>Assault Rifle (SCAR)</td>\n",
              "      <td>Legendary</td>\n",
              "      <td>5.50</td>\n",
              "      <td>30</td>\n",
              "      <td>2.1</td>\n",
              "      <td>2.0</td>\n",
              "      <td>36</td>\n",
              "      <td>72.0</td>\n",
              "      <td>198.00</td>\n",
              "      <td>396.000</td>\n",
              "      <td>4.25</td>\n",
              "      <td>2.50</td>\n",
              "    </tr>\n",
              "    <tr>\n",
              "      <th>6</th>\n",
              "      <td>Assault Rifle (Burst)</td>\n",
              "      <td>Common</td>\n",
              "      <td>4.06</td>\n",
              "      <td>30</td>\n",
              "      <td>2.9</td>\n",
              "      <td>2.0</td>\n",
              "      <td>27</td>\n",
              "      <td>54.0</td>\n",
              "      <td>109.62</td>\n",
              "      <td>219.240</td>\n",
              "      <td>5.25</td>\n",
              "      <td>2.75</td>\n",
              "    </tr>\n",
              "    <tr>\n",
              "      <th>7</th>\n",
              "      <td>Assault Rifle (Burst)</td>\n",
              "      <td>Uncommon</td>\n",
              "      <td>4.06</td>\n",
              "      <td>30</td>\n",
              "      <td>2.7</td>\n",
              "      <td>2.0</td>\n",
              "      <td>29</td>\n",
              "      <td>58.0</td>\n",
              "      <td>117.74</td>\n",
              "      <td>235.480</td>\n",
              "      <td>5.00</td>\n",
              "      <td>2.75</td>\n",
              "    </tr>\n",
              "    <tr>\n",
              "      <th>8</th>\n",
              "      <td>Assault Rifle (Burst)</td>\n",
              "      <td>Rare</td>\n",
              "      <td>4.06</td>\n",
              "      <td>30</td>\n",
              "      <td>2.6</td>\n",
              "      <td>2.0</td>\n",
              "      <td>30</td>\n",
              "      <td>60.0</td>\n",
              "      <td>121.80</td>\n",
              "      <td>243.600</td>\n",
              "      <td>4.75</td>\n",
              "      <td>2.75</td>\n",
              "    </tr>\n",
              "    <tr>\n",
              "      <th>9</th>\n",
              "      <td>Assault Rifle (Burst)</td>\n",
              "      <td>Epic</td>\n",
              "      <td>1.75</td>\n",
              "      <td>30</td>\n",
              "      <td>2.5</td>\n",
              "      <td>2.0</td>\n",
              "      <td>32</td>\n",
              "      <td>64.0</td>\n",
              "      <td>56.00</td>\n",
              "      <td>112.000</td>\n",
              "      <td>4.75</td>\n",
              "      <td>2.75</td>\n",
              "    </tr>\n",
              "    <tr>\n",
              "      <th>10</th>\n",
              "      <td>Assault Rifle (Burst)</td>\n",
              "      <td>Legendary</td>\n",
              "      <td>1.75</td>\n",
              "      <td>30</td>\n",
              "      <td>2.3</td>\n",
              "      <td>2.0</td>\n",
              "      <td>33</td>\n",
              "      <td>66.0</td>\n",
              "      <td>57.75</td>\n",
              "      <td>115.500</td>\n",
              "      <td>4.75</td>\n",
              "      <td>2.75</td>\n",
              "    </tr>\n",
              "    <tr>\n",
              "      <th>11</th>\n",
              "      <td>Assault Rifle (Scoped)</td>\n",
              "      <td>Rare</td>\n",
              "      <td>3.50</td>\n",
              "      <td>20</td>\n",
              "      <td>2.3</td>\n",
              "      <td>2.0</td>\n",
              "      <td>23</td>\n",
              "      <td>46.0</td>\n",
              "      <td>80.50</td>\n",
              "      <td>161.000</td>\n",
              "      <td>6.25</td>\n",
              "      <td>3.50</td>\n",
              "    </tr>\n",
              "    <tr>\n",
              "      <th>12</th>\n",
              "      <td>Assault Rifle (Scoped)</td>\n",
              "      <td>Epic</td>\n",
              "      <td>3.50</td>\n",
              "      <td>20</td>\n",
              "      <td>2.2</td>\n",
              "      <td>2.0</td>\n",
              "      <td>24</td>\n",
              "      <td>48.0</td>\n",
              "      <td>84.00</td>\n",
              "      <td>168.000</td>\n",
              "      <td>6.25</td>\n",
              "      <td>3.50</td>\n",
              "    </tr>\n",
              "    <tr>\n",
              "      <th>13</th>\n",
              "      <td>Bolt-Action Sniper Rifle</td>\n",
              "      <td>Rare</td>\n",
              "      <td>0.33</td>\n",
              "      <td>1</td>\n",
              "      <td>3.0</td>\n",
              "      <td>2.5</td>\n",
              "      <td>105</td>\n",
              "      <td>262.5</td>\n",
              "      <td>34.65</td>\n",
              "      <td>86.625</td>\n",
              "      <td>1.50</td>\n",
              "      <td>1.00</td>\n",
              "    </tr>\n",
              "    <tr>\n",
              "      <th>14</th>\n",
              "      <td>Bolt-Action Sniper Rifle</td>\n",
              "      <td>Epic</td>\n",
              "      <td>0.33</td>\n",
              "      <td>1</td>\n",
              "      <td>2.8</td>\n",
              "      <td>2.5</td>\n",
              "      <td>110</td>\n",
              "      <td>275.0</td>\n",
              "      <td>36.30</td>\n",
              "      <td>90.750</td>\n",
              "      <td>1.50</td>\n",
              "      <td>1.00</td>\n",
              "    </tr>\n",
              "    <tr>\n",
              "      <th>15</th>\n",
              "      <td>Bolt-Action Sniper Rifle</td>\n",
              "      <td>Legendary</td>\n",
              "      <td>0.33</td>\n",
              "      <td>1</td>\n",
              "      <td>2.7</td>\n",
              "      <td>2.5</td>\n",
              "      <td>116</td>\n",
              "      <td>290.0</td>\n",
              "      <td>38.28</td>\n",
              "      <td>95.700</td>\n",
              "      <td>1.50</td>\n",
              "      <td>1.00</td>\n",
              "    </tr>\n",
              "    <tr>\n",
              "      <th>16</th>\n",
              "      <td>Semi-Auto Sniper Rifle</td>\n",
              "      <td>Epic</td>\n",
              "      <td>1.20</td>\n",
              "      <td>10</td>\n",
              "      <td>2.5</td>\n",
              "      <td>2.5</td>\n",
              "      <td>63</td>\n",
              "      <td>157.5</td>\n",
              "      <td>75.60</td>\n",
              "      <td>189.000</td>\n",
              "      <td>2.75</td>\n",
              "      <td>1.25</td>\n",
              "    </tr>\n",
              "    <tr>\n",
              "      <th>17</th>\n",
              "      <td>Semi-Auto Sniper Rifle</td>\n",
              "      <td>Legendary</td>\n",
              "      <td>1.20</td>\n",
              "      <td>10</td>\n",
              "      <td>2.3</td>\n",
              "      <td>2.5</td>\n",
              "      <td>66</td>\n",
              "      <td>165.0</td>\n",
              "      <td>79.20</td>\n",
              "      <td>198.000</td>\n",
              "      <td>2.75</td>\n",
              "      <td>1.25</td>\n",
              "    </tr>\n",
              "    <tr>\n",
              "      <th>18</th>\n",
              "      <td>Crossbow</td>\n",
              "      <td>Rare</td>\n",
              "      <td>0.60</td>\n",
              "      <td>5</td>\n",
              "      <td>2.6</td>\n",
              "      <td>2.0</td>\n",
              "      <td>75</td>\n",
              "      <td>150.0</td>\n",
              "      <td>45.00</td>\n",
              "      <td>90.000</td>\n",
              "      <td>2.00</td>\n",
              "      <td>1.25</td>\n",
              "    </tr>\n",
              "    <tr>\n",
              "      <th>19</th>\n",
              "      <td>Crossbow</td>\n",
              "      <td>Epic</td>\n",
              "      <td>0.60</td>\n",
              "      <td>5</td>\n",
              "      <td>2.5</td>\n",
              "      <td>2.0</td>\n",
              "      <td>79</td>\n",
              "      <td>158.0</td>\n",
              "      <td>47.40</td>\n",
              "      <td>94.800</td>\n",
              "      <td>2.00</td>\n",
              "      <td>1.25</td>\n",
              "    </tr>\n",
              "    <tr>\n",
              "      <th>20</th>\n",
              "      <td>Hunting Rifle</td>\n",
              "      <td>Uncommon</td>\n",
              "      <td>0.80</td>\n",
              "      <td>1</td>\n",
              "      <td>1.9</td>\n",
              "      <td>2.5</td>\n",
              "      <td>86</td>\n",
              "      <td>215.0</td>\n",
              "      <td>68.80</td>\n",
              "      <td>172.000</td>\n",
              "      <td>2.00</td>\n",
              "      <td>1.00</td>\n",
              "    </tr>\n",
              "    <tr>\n",
              "      <th>21</th>\n",
              "      <td>Hunting Rifle</td>\n",
              "      <td>Rare</td>\n",
              "      <td>0.80</td>\n",
              "      <td>1</td>\n",
              "      <td>1.8</td>\n",
              "      <td>2.5</td>\n",
              "      <td>90</td>\n",
              "      <td>225.0</td>\n",
              "      <td>72.00</td>\n",
              "      <td>180.000</td>\n",
              "      <td>2.00</td>\n",
              "      <td>1.00</td>\n",
              "    </tr>\n",
              "    <tr>\n",
              "      <th>22</th>\n",
              "      <td>Tactical Shotgun</td>\n",
              "      <td>Common</td>\n",
              "      <td>1.50</td>\n",
              "      <td>8</td>\n",
              "      <td>6.3</td>\n",
              "      <td>2.0</td>\n",
              "      <td>67</td>\n",
              "      <td>134.0</td>\n",
              "      <td>100.50</td>\n",
              "      <td>201.000</td>\n",
              "      <td>2.50</td>\n",
              "      <td>1.50</td>\n",
              "    </tr>\n",
              "    <tr>\n",
              "      <th>23</th>\n",
              "      <td>Tactical Shotgun</td>\n",
              "      <td>Uncommon</td>\n",
              "      <td>1.50</td>\n",
              "      <td>8</td>\n",
              "      <td>6.0</td>\n",
              "      <td>2.0</td>\n",
              "      <td>70</td>\n",
              "      <td>140.0</td>\n",
              "      <td>105.00</td>\n",
              "      <td>210.000</td>\n",
              "      <td>2.50</td>\n",
              "      <td>1.50</td>\n",
              "    </tr>\n",
              "    <tr>\n",
              "      <th>24</th>\n",
              "      <td>Tactical Shotgun</td>\n",
              "      <td>Rare</td>\n",
              "      <td>1.50</td>\n",
              "      <td>8</td>\n",
              "      <td>6.0</td>\n",
              "      <td>2.0</td>\n",
              "      <td>74</td>\n",
              "      <td>148.0</td>\n",
              "      <td>111.00</td>\n",
              "      <td>222.000</td>\n",
              "      <td>2.50</td>\n",
              "      <td>1.50</td>\n",
              "    </tr>\n",
              "    <tr>\n",
              "      <th>25</th>\n",
              "      <td>Pump Shotgun</td>\n",
              "      <td>Uncommon</td>\n",
              "      <td>0.70</td>\n",
              "      <td>5</td>\n",
              "      <td>4.8</td>\n",
              "      <td>2.0</td>\n",
              "      <td>80</td>\n",
              "      <td>160.0</td>\n",
              "      <td>56.00</td>\n",
              "      <td>112.000</td>\n",
              "      <td>2.00</td>\n",
              "      <td>1.25</td>\n",
              "    </tr>\n",
              "    <tr>\n",
              "      <th>26</th>\n",
              "      <td>Pump Shotgun</td>\n",
              "      <td>Rare</td>\n",
              "      <td>0.70</td>\n",
              "      <td>5</td>\n",
              "      <td>4.6</td>\n",
              "      <td>2.0</td>\n",
              "      <td>85</td>\n",
              "      <td>170.0</td>\n",
              "      <td>59.50</td>\n",
              "      <td>119.000</td>\n",
              "      <td>2.00</td>\n",
              "      <td>1.25</td>\n",
              "    </tr>\n",
              "    <tr>\n",
              "      <th>27</th>\n",
              "      <td>Tactical Submachine Gun</td>\n",
              "      <td>Uncommon</td>\n",
              "      <td>10.00</td>\n",
              "      <td>30</td>\n",
              "      <td>2.4</td>\n",
              "      <td>2.5</td>\n",
              "      <td>16</td>\n",
              "      <td>40.0</td>\n",
              "      <td>160.00</td>\n",
              "      <td>400.000</td>\n",
              "      <td>8.75</td>\n",
              "      <td>3.50</td>\n",
              "    </tr>\n",
              "    <tr>\n",
              "      <th>28</th>\n",
              "      <td>Tactical Submachine Gun</td>\n",
              "      <td>Rare</td>\n",
              "      <td>10.00</td>\n",
              "      <td>30</td>\n",
              "      <td>2.3</td>\n",
              "      <td>2.5</td>\n",
              "      <td>17</td>\n",
              "      <td>42.5</td>\n",
              "      <td>170.00</td>\n",
              "      <td>425.000</td>\n",
              "      <td>8.00</td>\n",
              "      <td>3.50</td>\n",
              "    </tr>\n",
              "    <tr>\n",
              "      <th>29</th>\n",
              "      <td>Tactical Submachine Gun</td>\n",
              "      <td>Epic</td>\n",
              "      <td>10.00</td>\n",
              "      <td>30</td>\n",
              "      <td>2.2</td>\n",
              "      <td>2.5</td>\n",
              "      <td>18</td>\n",
              "      <td>45.0</td>\n",
              "      <td>180.00</td>\n",
              "      <td>450.000</td>\n",
              "      <td>8.00</td>\n",
              "      <td>3.50</td>\n",
              "    </tr>\n",
              "    <tr>\n",
              "      <th>30</th>\n",
              "      <td>Submachine Gun (Suppressor)</td>\n",
              "      <td>Common</td>\n",
              "      <td>9.00</td>\n",
              "      <td>30</td>\n",
              "      <td>2.2</td>\n",
              "      <td>2.0</td>\n",
              "      <td>20</td>\n",
              "      <td>40.0</td>\n",
              "      <td>180.00</td>\n",
              "      <td>360.000</td>\n",
              "      <td>6.75</td>\n",
              "      <td>3.50</td>\n",
              "    </tr>\n",
              "    <tr>\n",
              "      <th>31</th>\n",
              "      <td>Submachine Gun (Suppressor)</td>\n",
              "      <td>Uncommon</td>\n",
              "      <td>9.00</td>\n",
              "      <td>30</td>\n",
              "      <td>2.1</td>\n",
              "      <td>2.0</td>\n",
              "      <td>21</td>\n",
              "      <td>42.0</td>\n",
              "      <td>189.00</td>\n",
              "      <td>378.000</td>\n",
              "      <td>6.75</td>\n",
              "      <td>3.50</td>\n",
              "    </tr>\n",
              "    <tr>\n",
              "      <th>32</th>\n",
              "      <td>Submachine Gun (Suppressor)</td>\n",
              "      <td>Rare</td>\n",
              "      <td>9.00</td>\n",
              "      <td>30</td>\n",
              "      <td>2.0</td>\n",
              "      <td>2.0</td>\n",
              "      <td>22</td>\n",
              "      <td>44.0</td>\n",
              "      <td>198.00</td>\n",
              "      <td>396.000</td>\n",
              "      <td>6.50</td>\n",
              "      <td>3.50</td>\n",
              "    </tr>\n",
              "    <tr>\n",
              "      <th>33</th>\n",
              "      <td>Revolver</td>\n",
              "      <td>Common</td>\n",
              "      <td>0.90</td>\n",
              "      <td>6</td>\n",
              "      <td>2.4</td>\n",
              "      <td>2.0</td>\n",
              "      <td>54</td>\n",
              "      <td>108.0</td>\n",
              "      <td>48.60</td>\n",
              "      <td>97.200</td>\n",
              "      <td>2.75</td>\n",
              "      <td>1.50</td>\n",
              "    </tr>\n",
              "    <tr>\n",
              "      <th>34</th>\n",
              "      <td>Revolver</td>\n",
              "      <td>Uncommon</td>\n",
              "      <td>0.90</td>\n",
              "      <td>6</td>\n",
              "      <td>2.3</td>\n",
              "      <td>2.0</td>\n",
              "      <td>57</td>\n",
              "      <td>114.0</td>\n",
              "      <td>51.30</td>\n",
              "      <td>102.600</td>\n",
              "      <td>2.75</td>\n",
              "      <td>1.50</td>\n",
              "    </tr>\n",
              "    <tr>\n",
              "      <th>35</th>\n",
              "      <td>Revolver</td>\n",
              "      <td>Rare</td>\n",
              "      <td>0.90</td>\n",
              "      <td>6</td>\n",
              "      <td>2.2</td>\n",
              "      <td>2.0</td>\n",
              "      <td>60</td>\n",
              "      <td>120.0</td>\n",
              "      <td>54.00</td>\n",
              "      <td>108.000</td>\n",
              "      <td>2.75</td>\n",
              "      <td>1.50</td>\n",
              "    </tr>\n",
              "    <tr>\n",
              "      <th>36</th>\n",
              "      <td>Pistol</td>\n",
              "      <td>Common</td>\n",
              "      <td>6.75</td>\n",
              "      <td>16</td>\n",
              "      <td>1.5</td>\n",
              "      <td>2.0</td>\n",
              "      <td>23</td>\n",
              "      <td>46.0</td>\n",
              "      <td>155.25</td>\n",
              "      <td>310.500</td>\n",
              "      <td>6.25</td>\n",
              "      <td>3.50</td>\n",
              "    </tr>\n",
              "    <tr>\n",
              "      <th>37</th>\n",
              "      <td>Pistol</td>\n",
              "      <td>Uncommon</td>\n",
              "      <td>6.75</td>\n",
              "      <td>16</td>\n",
              "      <td>1.5</td>\n",
              "      <td>2.0</td>\n",
              "      <td>24</td>\n",
              "      <td>48.0</td>\n",
              "      <td>162.00</td>\n",
              "      <td>324.000</td>\n",
              "      <td>6.25</td>\n",
              "      <td>3.50</td>\n",
              "    </tr>\n",
              "    <tr>\n",
              "      <th>38</th>\n",
              "      <td>Pistol</td>\n",
              "      <td>Rare</td>\n",
              "      <td>6.75</td>\n",
              "      <td>16</td>\n",
              "      <td>1.4</td>\n",
              "      <td>2.0</td>\n",
              "      <td>25</td>\n",
              "      <td>50.0</td>\n",
              "      <td>168.75</td>\n",
              "      <td>337.500</td>\n",
              "      <td>5.25</td>\n",
              "      <td>2.75</td>\n",
              "    </tr>\n",
              "    <tr>\n",
              "      <th>39</th>\n",
              "      <td>Suppressed Pistol</td>\n",
              "      <td>Epic</td>\n",
              "      <td>6.75</td>\n",
              "      <td>16</td>\n",
              "      <td>1.3</td>\n",
              "      <td>2.0</td>\n",
              "      <td>26</td>\n",
              "      <td>52.0</td>\n",
              "      <td>175.50</td>\n",
              "      <td>351.000</td>\n",
              "      <td>5.25</td>\n",
              "      <td>2.75</td>\n",
              "    </tr>\n",
              "    <tr>\n",
              "      <th>40</th>\n",
              "      <td>Suppressed Pistol</td>\n",
              "      <td>Legendary</td>\n",
              "      <td>6.75</td>\n",
              "      <td>16</td>\n",
              "      <td>1.3</td>\n",
              "      <td>2.0</td>\n",
              "      <td>28</td>\n",
              "      <td>56.0</td>\n",
              "      <td>189.00</td>\n",
              "      <td>378.000</td>\n",
              "      <td>5.25</td>\n",
              "      <td>2.75</td>\n",
              "    </tr>\n",
              "    <tr>\n",
              "      <th>41</th>\n",
              "      <td>Hand Cannon</td>\n",
              "      <td>Epic</td>\n",
              "      <td>0.80</td>\n",
              "      <td>7</td>\n",
              "      <td>2.1</td>\n",
              "      <td>2.0</td>\n",
              "      <td>75</td>\n",
              "      <td>150.0</td>\n",
              "      <td>60.00</td>\n",
              "      <td>120.000</td>\n",
              "      <td>2.00</td>\n",
              "      <td>1.25</td>\n",
              "    </tr>\n",
              "    <tr>\n",
              "      <th>42</th>\n",
              "      <td>Hand Cannon</td>\n",
              "      <td>Legendary</td>\n",
              "      <td>0.80</td>\n",
              "      <td>7</td>\n",
              "      <td>2.0</td>\n",
              "      <td>2.0</td>\n",
              "      <td>78</td>\n",
              "      <td>156.0</td>\n",
              "      <td>62.40</td>\n",
              "      <td>124.800</td>\n",
              "      <td>2.00</td>\n",
              "      <td>1.25</td>\n",
              "    </tr>\n",
              "  </tbody>\n",
              "</table>\n",
              "</div>"
            ],
            "text/plain": [
              "                           Name     Rarity  Fire Rate  Mag Size  Reload Time  \\\n",
              "1            Assault Rifle (M4)     Common       5.50        30          2.3   \n",
              "2            Assault Rifle (M4)   Uncommon       5.50        30          2.2   \n",
              "3            Assault Rifle (M4)       Rare       5.50        30          2.2   \n",
              "4          Assault Rifle (SCAR)       Epic       5.50        30          2.2   \n",
              "5          Assault Rifle (SCAR)  Legendary       5.50        30          2.1   \n",
              "6         Assault Rifle (Burst)     Common       4.06        30          2.9   \n",
              "7         Assault Rifle (Burst)   Uncommon       4.06        30          2.7   \n",
              "8         Assault Rifle (Burst)       Rare       4.06        30          2.6   \n",
              "9         Assault Rifle (Burst)       Epic       1.75        30          2.5   \n",
              "10        Assault Rifle (Burst)  Legendary       1.75        30          2.3   \n",
              "11       Assault Rifle (Scoped)       Rare       3.50        20          2.3   \n",
              "12       Assault Rifle (Scoped)       Epic       3.50        20          2.2   \n",
              "13     Bolt-Action Sniper Rifle       Rare       0.33         1          3.0   \n",
              "14     Bolt-Action Sniper Rifle       Epic       0.33         1          2.8   \n",
              "15     Bolt-Action Sniper Rifle  Legendary       0.33         1          2.7   \n",
              "16       Semi-Auto Sniper Rifle       Epic       1.20        10          2.5   \n",
              "17       Semi-Auto Sniper Rifle  Legendary       1.20        10          2.3   \n",
              "18                     Crossbow       Rare       0.60         5          2.6   \n",
              "19                     Crossbow       Epic       0.60         5          2.5   \n",
              "20                Hunting Rifle   Uncommon       0.80         1          1.9   \n",
              "21                Hunting Rifle       Rare       0.80         1          1.8   \n",
              "22             Tactical Shotgun     Common       1.50         8          6.3   \n",
              "23             Tactical Shotgun   Uncommon       1.50         8          6.0   \n",
              "24             Tactical Shotgun       Rare       1.50         8          6.0   \n",
              "25                 Pump Shotgun   Uncommon       0.70         5          4.8   \n",
              "26                 Pump Shotgun       Rare       0.70         5          4.6   \n",
              "27      Tactical Submachine Gun   Uncommon      10.00        30          2.4   \n",
              "28      Tactical Submachine Gun       Rare      10.00        30          2.3   \n",
              "29      Tactical Submachine Gun       Epic      10.00        30          2.2   \n",
              "30  Submachine Gun (Suppressor)     Common       9.00        30          2.2   \n",
              "31  Submachine Gun (Suppressor)   Uncommon       9.00        30          2.1   \n",
              "32  Submachine Gun (Suppressor)       Rare       9.00        30          2.0   \n",
              "33                     Revolver     Common       0.90         6          2.4   \n",
              "34                     Revolver   Uncommon       0.90         6          2.3   \n",
              "35                     Revolver       Rare       0.90         6          2.2   \n",
              "36                       Pistol     Common       6.75        16          1.5   \n",
              "37                       Pistol   Uncommon       6.75        16          1.5   \n",
              "38                       Pistol       Rare       6.75        16          1.4   \n",
              "39            Suppressed Pistol       Epic       6.75        16          1.3   \n",
              "40            Suppressed Pistol  Legendary       6.75        16          1.3   \n",
              "41                  Hand Cannon       Epic       0.80         7          2.1   \n",
              "42                  Hand Cannon  Legendary       0.80         7          2.0   \n",
              "\n",
              "    Multiplier  Damage (Body)  Damage (Head)  DPS (Body)  DPS (Head)  \\\n",
              "1          2.0             30           60.0      165.00     330.000   \n",
              "2          2.0             31           62.0      170.50     341.000   \n",
              "3          2.0             33           66.0      181.50     363.000   \n",
              "4          2.0             35           70.0      192.50     385.000   \n",
              "5          2.0             36           72.0      198.00     396.000   \n",
              "6          2.0             27           54.0      109.62     219.240   \n",
              "7          2.0             29           58.0      117.74     235.480   \n",
              "8          2.0             30           60.0      121.80     243.600   \n",
              "9          2.0             32           64.0       56.00     112.000   \n",
              "10         2.0             33           66.0       57.75     115.500   \n",
              "11         2.0             23           46.0       80.50     161.000   \n",
              "12         2.0             24           48.0       84.00     168.000   \n",
              "13         2.5            105          262.5       34.65      86.625   \n",
              "14         2.5            110          275.0       36.30      90.750   \n",
              "15         2.5            116          290.0       38.28      95.700   \n",
              "16         2.5             63          157.5       75.60     189.000   \n",
              "17         2.5             66          165.0       79.20     198.000   \n",
              "18         2.0             75          150.0       45.00      90.000   \n",
              "19         2.0             79          158.0       47.40      94.800   \n",
              "20         2.5             86          215.0       68.80     172.000   \n",
              "21         2.5             90          225.0       72.00     180.000   \n",
              "22         2.0             67          134.0      100.50     201.000   \n",
              "23         2.0             70          140.0      105.00     210.000   \n",
              "24         2.0             74          148.0      111.00     222.000   \n",
              "25         2.0             80          160.0       56.00     112.000   \n",
              "26         2.0             85          170.0       59.50     119.000   \n",
              "27         2.5             16           40.0      160.00     400.000   \n",
              "28         2.5             17           42.5      170.00     425.000   \n",
              "29         2.5             18           45.0      180.00     450.000   \n",
              "30         2.0             20           40.0      180.00     360.000   \n",
              "31         2.0             21           42.0      189.00     378.000   \n",
              "32         2.0             22           44.0      198.00     396.000   \n",
              "33         2.0             54          108.0       48.60      97.200   \n",
              "34         2.0             57          114.0       51.30     102.600   \n",
              "35         2.0             60          120.0       54.00     108.000   \n",
              "36         2.0             23           46.0      155.25     310.500   \n",
              "37         2.0             24           48.0      162.00     324.000   \n",
              "38         2.0             25           50.0      168.75     337.500   \n",
              "39         2.0             26           52.0      175.50     351.000   \n",
              "40         2.0             28           56.0      189.00     378.000   \n",
              "41         2.0             75          150.0       60.00     120.000   \n",
              "42         2.0             78          156.0       62.40     124.800   \n",
              "\n",
              "    Shots/Kill Avg (Body)  Shots/Kill Avg (Head)  \n",
              "1                    4.75                   2.75  \n",
              "2                    4.75                   2.75  \n",
              "3                    4.75                   2.75  \n",
              "4                    4.25                   2.50  \n",
              "5                    4.25                   2.50  \n",
              "6                    5.25                   2.75  \n",
              "7                    5.00                   2.75  \n",
              "8                    4.75                   2.75  \n",
              "9                    4.75                   2.75  \n",
              "10                   4.75                   2.75  \n",
              "11                   6.25                   3.50  \n",
              "12                   6.25                   3.50  \n",
              "13                   1.50                   1.00  \n",
              "14                   1.50                   1.00  \n",
              "15                   1.50                   1.00  \n",
              "16                   2.75                   1.25  \n",
              "17                   2.75                   1.25  \n",
              "18                   2.00                   1.25  \n",
              "19                   2.00                   1.25  \n",
              "20                   2.00                   1.00  \n",
              "21                   2.00                   1.00  \n",
              "22                   2.50                   1.50  \n",
              "23                   2.50                   1.50  \n",
              "24                   2.50                   1.50  \n",
              "25                   2.00                   1.25  \n",
              "26                   2.00                   1.25  \n",
              "27                   8.75                   3.50  \n",
              "28                   8.00                   3.50  \n",
              "29                   8.00                   3.50  \n",
              "30                   6.75                   3.50  \n",
              "31                   6.75                   3.50  \n",
              "32                   6.50                   3.50  \n",
              "33                   2.75                   1.50  \n",
              "34                   2.75                   1.50  \n",
              "35                   2.75                   1.50  \n",
              "36                   6.25                   3.50  \n",
              "37                   6.25                   3.50  \n",
              "38                   5.25                   2.75  \n",
              "39                   5.25                   2.75  \n",
              "40                   5.25                   2.75  \n",
              "41                   2.00                   1.25  \n",
              "42                   2.00                   1.25  "
            ]
          },
          "metadata": {
            "tags": []
          },
          "execution_count": 12
        }
      ]
    },
    {
      "metadata": {
        "id": "dHN-7bxAflSU",
        "colab_type": "text"
      },
      "cell_type": "markdown",
      "source": [
        "## Емпіричні дослідження даних"
      ]
    },
    {
      "metadata": {
        "id": "eOW_59_XcOcg",
        "colab_type": "code",
        "outputId": "34632cea-cf9b-48ef-f406-833f20f09e9b",
        "colab": {
          "base_uri": "https://localhost:8080/",
          "height": 170
        }
      },
      "cell_type": "code",
      "source": [
        "df['Fire Rate'].describe()"
      ],
      "execution_count": 0,
      "outputs": [
        {
          "output_type": "execute_result",
          "data": {
            "text/plain": [
              "count    42.000000\n",
              "mean      3.745714\n",
              "std       3.236639\n",
              "min       0.330000\n",
              "25%       0.825000\n",
              "50%       2.625000\n",
              "75%       6.437500\n",
              "max      10.000000\n",
              "Name: Fire Rate, dtype: float64"
            ]
          },
          "metadata": {
            "tags": []
          },
          "execution_count": 15
        }
      ]
    },
    {
      "metadata": {
        "id": "3SuMHLX4hRaZ",
        "colab_type": "text"
      },
      "cell_type": "markdown",
      "source": [
        "**Мода**"
      ]
    },
    {
      "metadata": {
        "id": "c-PMtlijch11",
        "colab_type": "code",
        "outputId": "03e4a4c1-fe2d-406f-89ee-2bdaa9ae1d18",
        "colab": {
          "base_uri": "https://localhost:8080/",
          "height": 85
        }
      },
      "cell_type": "code",
      "source": [
        "df['DPS (Head)'].mode()"
      ],
      "execution_count": 0,
      "outputs": [
        {
          "output_type": "execute_result",
          "data": {
            "text/plain": [
              "0    112.0\n",
              "1    378.0\n",
              "2    396.0\n",
              "dtype: float64"
            ]
          },
          "metadata": {
            "tags": []
          },
          "execution_count": 17
        }
      ]
    },
    {
      "metadata": {
        "id": "--4Ku71nhc5g",
        "colab_type": "text"
      },
      "cell_type": "markdown",
      "source": [
        "**Медіана**"
      ]
    },
    {
      "metadata": {
        "id": "CDxx9Pw9dJWo",
        "colab_type": "code",
        "outputId": "253708f6-0255-42ad-ca08-4c6f061c6a61",
        "colab": {
          "base_uri": "https://localhost:8080/",
          "height": 34
        }
      },
      "cell_type": "code",
      "source": [
        "df['DPS (Head)'].median()"
      ],
      "execution_count": 0,
      "outputs": [
        {
          "output_type": "execute_result",
          "data": {
            "text/plain": [
              "205.5"
            ]
          },
          "metadata": {
            "tags": []
          },
          "execution_count": 18
        }
      ]
    },
    {
      "metadata": {
        "id": "6E8BYNNnhpFV",
        "colab_type": "text"
      },
      "cell_type": "markdown",
      "source": [
        "**Середнє арифметичне**"
      ]
    },
    {
      "metadata": {
        "id": "US4hS_erdKZM",
        "colab_type": "code",
        "outputId": "b553636d-ee84-4bda-e1e8-58fbb2bace09",
        "colab": {
          "base_uri": "https://localhost:8080/",
          "height": 34
        }
      },
      "cell_type": "code",
      "source": [
        "df['DPS (Body)'].mean()"
      ],
      "execution_count": 0,
      "outputs": [
        {
          "output_type": "execute_result",
          "data": {
            "text/plain": [
              "111.14142857142856"
            ]
          },
          "metadata": {
            "tags": []
          },
          "execution_count": 19
        }
      ]
    },
    {
      "metadata": {
        "id": "wwrp4i_PhxJf",
        "colab_type": "text"
      },
      "cell_type": "markdown",
      "source": [
        "**Середнє геометричне**"
      ]
    },
    {
      "metadata": {
        "id": "nUfh_rI5dkAw",
        "colab_type": "code",
        "outputId": "5e0e33c6-8046-460b-9360-fafb33e932ee",
        "colab": {
          "base_uri": "https://localhost:8080/",
          "height": 34
        }
      },
      "cell_type": "code",
      "source": [
        "from scipy.stats.mstats import gmean\n",
        "\n",
        "gmean(df['DPS (Head)'])"
      ],
      "execution_count": 0,
      "outputs": [
        {
          "output_type": "execute_result",
          "data": {
            "text/plain": [
              "202.63707900981132"
            ]
          },
          "metadata": {
            "tags": []
          },
          "execution_count": 20
        }
      ]
    },
    {
      "metadata": {
        "id": "uyDeC_b_iD97",
        "colab_type": "text"
      },
      "cell_type": "markdown",
      "source": [
        "**Середнє гармонічне**"
      ]
    },
    {
      "metadata": {
        "id": "t6L4luBTd6YY",
        "colab_type": "code",
        "outputId": "3820ed7d-2ae2-42a2-cff7-ad7bc7a51f10",
        "colab": {
          "base_uri": "https://localhost:8080/",
          "height": 34
        }
      },
      "cell_type": "code",
      "source": [
        "from scipy.stats.mstats import hmean\n",
        "\n",
        "hmean(df['DPS (Body)'])"
      ],
      "execution_count": 0,
      "outputs": [
        {
          "output_type": "execute_result",
          "data": {
            "text/plain": [
              "82.24388947761034"
            ]
          },
          "metadata": {
            "tags": []
          },
          "execution_count": 21
        }
      ]
    },
    {
      "metadata": {
        "id": "QNiBlobKii5F",
        "colab_type": "text"
      },
      "cell_type": "markdown",
      "source": [
        "**Варіаційний ряд**"
      ]
    },
    {
      "metadata": {
        "id": "B97PbxcIej07",
        "colab_type": "code",
        "outputId": "f14fdcb4-ff7a-4b77-9de7-0be0f97fe828",
        "colab": {
          "base_uri": "https://localhost:8080/",
          "height": 204
        }
      },
      "cell_type": "code",
      "source": [
        "import numpy as np\n",
        "df['DPS (Head)'].quantile(np.linspace(.1, 1, 9, 0))\n",
        "df.dropna().quantile([0.0, .3, .7, .9, .99])"
      ],
      "execution_count": 0,
      "outputs": [
        {
          "output_type": "execute_result",
          "data": {
            "text/html": [
              "<div>\n",
              "<style scoped>\n",
              "    .dataframe tbody tr th:only-of-type {\n",
              "        vertical-align: middle;\n",
              "    }\n",
              "\n",
              "    .dataframe tbody tr th {\n",
              "        vertical-align: top;\n",
              "    }\n",
              "\n",
              "    .dataframe thead th {\n",
              "        text-align: right;\n",
              "    }\n",
              "</style>\n",
              "<table border=\"1\" class=\"dataframe\">\n",
              "  <thead>\n",
              "    <tr style=\"text-align: right;\">\n",
              "      <th></th>\n",
              "      <th>Fire Rate</th>\n",
              "      <th>Mag Size</th>\n",
              "      <th>Reload Time</th>\n",
              "      <th>Multiplier</th>\n",
              "      <th>Damage (Body)</th>\n",
              "      <th>Damage (Head)</th>\n",
              "      <th>DPS (Body)</th>\n",
              "      <th>DPS (Head)</th>\n",
              "      <th>Shots/Kill Avg (Body)</th>\n",
              "      <th>Shots/Kill Avg (Head)</th>\n",
              "    </tr>\n",
              "  </thead>\n",
              "  <tbody>\n",
              "    <tr>\n",
              "      <th>0.00</th>\n",
              "      <td>0.33</td>\n",
              "      <td>1.0</td>\n",
              "      <td>1.300</td>\n",
              "      <td>2.0</td>\n",
              "      <td>16.00</td>\n",
              "      <td>40.00</td>\n",
              "      <td>34.65</td>\n",
              "      <td>86.625</td>\n",
              "      <td>1.5000</td>\n",
              "      <td>1.000</td>\n",
              "    </tr>\n",
              "    <tr>\n",
              "      <th>0.30</th>\n",
              "      <td>0.90</td>\n",
              "      <td>7.0</td>\n",
              "      <td>2.200</td>\n",
              "      <td>2.0</td>\n",
              "      <td>27.30</td>\n",
              "      <td>54.60</td>\n",
              "      <td>60.72</td>\n",
              "      <td>121.440</td>\n",
              "      <td>2.5000</td>\n",
              "      <td>1.325</td>\n",
              "    </tr>\n",
              "    <tr>\n",
              "      <th>0.70</th>\n",
              "      <td>5.50</td>\n",
              "      <td>30.0</td>\n",
              "      <td>2.500</td>\n",
              "      <td>2.0</td>\n",
              "      <td>69.10</td>\n",
              "      <td>149.40</td>\n",
              "      <td>164.10</td>\n",
              "      <td>335.250</td>\n",
              "      <td>5.2500</td>\n",
              "      <td>2.750</td>\n",
              "    </tr>\n",
              "    <tr>\n",
              "      <th>0.90</th>\n",
              "      <td>9.00</td>\n",
              "      <td>30.0</td>\n",
              "      <td>4.440</td>\n",
              "      <td>2.5</td>\n",
              "      <td>85.90</td>\n",
              "      <td>210.50</td>\n",
              "      <td>188.25</td>\n",
              "      <td>394.900</td>\n",
              "      <td>6.7250</td>\n",
              "      <td>3.500</td>\n",
              "    </tr>\n",
              "    <tr>\n",
              "      <th>0.99</th>\n",
              "      <td>10.00</td>\n",
              "      <td>30.0</td>\n",
              "      <td>6.177</td>\n",
              "      <td>2.5</td>\n",
              "      <td>113.54</td>\n",
              "      <td>283.85</td>\n",
              "      <td>198.00</td>\n",
              "      <td>439.750</td>\n",
              "      <td>8.4425</td>\n",
              "      <td>3.500</td>\n",
              "    </tr>\n",
              "  </tbody>\n",
              "</table>\n",
              "</div>"
            ],
            "text/plain": [
              "      Fire Rate  Mag Size  Reload Time  Multiplier  Damage (Body)  \\\n",
              "0.00       0.33       1.0        1.300         2.0          16.00   \n",
              "0.30       0.90       7.0        2.200         2.0          27.30   \n",
              "0.70       5.50      30.0        2.500         2.0          69.10   \n",
              "0.90       9.00      30.0        4.440         2.5          85.90   \n",
              "0.99      10.00      30.0        6.177         2.5         113.54   \n",
              "\n",
              "      Damage (Head)  DPS (Body)  DPS (Head)  Shots/Kill Avg (Body)  \\\n",
              "0.00          40.00       34.65      86.625                 1.5000   \n",
              "0.30          54.60       60.72     121.440                 2.5000   \n",
              "0.70         149.40      164.10     335.250                 5.2500   \n",
              "0.90         210.50      188.25     394.900                 6.7250   \n",
              "0.99         283.85      198.00     439.750                 8.4425   \n",
              "\n",
              "      Shots/Kill Avg (Head)  \n",
              "0.00                  1.000  \n",
              "0.30                  1.325  \n",
              "0.70                  2.750  \n",
              "0.90                  3.500  \n",
              "0.99                  3.500  "
            ]
          },
          "metadata": {
            "tags": []
          },
          "execution_count": 22
        }
      ]
    },
    {
      "metadata": {
        "id": "BmMSUzackiUL",
        "colab_type": "text"
      },
      "cell_type": "markdown",
      "source": [
        "## Контрольні запитання"
      ]
    },
    {
      "metadata": {
        "id": "yu3-MvNo-cRK",
        "colab_type": "text"
      },
      "cell_type": "markdown",
      "source": [
        "1. Які основні емпіричні методи ви знаєте? Коротко опишіть їх суть.\n",
        "\n",
        "\n",
        "*   Спостереження — цілеспрямоване сприйняття явищ.\n",
        "* Опис — фіксація засобами мови відомостей про об'єкти.\n",
        "* Вимірювання — порівняння об'єктів по яких-небудь загальних властивостях.\n",
        "* Експеримент — спостереження в спеціально створених контрольованих умовах.\n",
        "* Порівняння — одночасне співвідносне дослідження і оцінка загальних для об'єктів властивостей та ознак."
      ]
    },
    {
      "metadata": {
        "id": "tWmz35EA-dpO",
        "colab_type": "text"
      },
      "cell_type": "markdown",
      "source": [
        "2. Яка основна задача застосування емпіричних методів?\n",
        "\n",
        "\n",
        "\n",
        "*   Полягає в наступному: підтвердити або спростувати гіпотези на основі аналізу статистичних показників.\n",
        "\n",
        "\n",
        "\n"
      ]
    },
    {
      "metadata": {
        "id": "gV1VDVcY-igG",
        "colab_type": "text"
      },
      "cell_type": "markdown",
      "source": [
        "3. Що таке статистичний показник? Яка його суть?\n",
        "\n",
        "\n",
        "\n",
        "*   Статистичним показником називають узагальнену числову характеристику будь-якого масового явища в поєднанні з його якісною визначеністю в конкретних умовах місця і часу. Прикладом статистичного показника є кількість населення країни на початок року, питома вага міського і сільського населення, урожайність сільськогосподарських культур, площа ріллі, собівартість продукції тощо.\n",
        "\n",
        "\n"
      ]
    },
    {
      "metadata": {
        "id": "M5uEDWiI-kQA",
        "colab_type": "text"
      },
      "cell_type": "markdown",
      "source": [
        "4. Опишіть суть закону великих чисел.\n",
        "\n",
        "\n",
        "\n",
        "*   Закон великих чисел: закономірність масового явища виявляється лише при досить великій кількості спостережень, коли відбувається взаємне погашення впливу випадкових причин, які мають місце в окремих випадках.\n",
        "\n",
        "\n"
      ]
    },
    {
      "metadata": {
        "id": "b-aFfkxt-toV",
        "colab_type": "text"
      },
      "cell_type": "markdown",
      "source": [
        "5. В чому полягає ключова небезпека при нерозумінні до якої області відноситься величина: \"Крайнестану\" чи \"Среднестану\"?\n",
        "\n",
        "\n",
        "*   Величина \"Крайнестану\" може суттєво змінити вихідні дані, в той час як величина \"Среднестану\" майже їх не змінює.\n",
        "\n",
        "\n",
        "\n"
      ]
    },
    {
      "metadata": {
        "id": "7tkYU5I--vXj",
        "colab_type": "text"
      },
      "cell_type": "markdown",
      "source": [
        "6. Опишіть процес первинної обробки даних.\n",
        "\n",
        "\n",
        "*   Емпіричні дані, які ми отримуємо шляхом вимірювань або за допомогою імітаційного моделювання — мають пройти первинну обробку.\n",
        "\n",
        "Вона включає:\n",
        "\n",
        "* табуляцію\n",
        "* впорядкування у варіаційні послідовності (або ряди)\n",
        "* групування (при побудові інтервального варіаційного ряду)\n",
        "* побудову статистичного розподілу\n",
        "* обчислення окремих статистичних параметрів"
      ]
    },
    {
      "metadata": {
        "id": "Zlr8k5Br-z5N",
        "colab_type": "text"
      },
      "cell_type": "markdown",
      "source": [
        "7. Що таке табуляція? Які види табуляції ви знаєте? За яких умов варто застосовувати кожен з них?\n",
        "\n",
        "> Розрізняють просту і перехресну табуляцію.\n",
        "\n",
        "\n",
        "\n",
        "Проста табуляція: \n",
        "* Це підрахунок кількості подій, які потрапляють в певну категорію, що базується на одній змінній. Простій табуляції піддаються відповіді, отримані як на основні, так і на класифікаційні питання.\n",
        "\n",
        "Перехресна табуляція: \n",
        "* Це підрахунок кількості подій, які потрапляють в кожну з декількох категорій, що базуються на двох або більше змінних, які розглядаються одночасно.\n",
        "\n",
        "\n",
        "\n"
      ]
    },
    {
      "metadata": {
        "id": "a33itJuk-9BL",
        "colab_type": "text"
      },
      "cell_type": "markdown",
      "source": [
        "8. Що таке експеримент?\n",
        "\n",
        "\n",
        "\n",
        "*   Термін \"експеримент\" походить від лат. ехреrіmetum — спроба, дослід і вживається для позначення низки споріднених понять: дослід, цілеспрямоване спостереження, відтворення об'єкта дослідження, організація особливих умов його існування, перевірка передбачень.\n",
        "\n"
      ]
    },
    {
      "metadata": {
        "id": "qOAYVANbn3ZV",
        "colab_type": "text"
      },
      "cell_type": "markdown",
      "source": [
        "# Частина 2"
      ]
    },
    {
      "metadata": {
        "id": "oelINrOfoblo",
        "colab_type": "text"
      },
      "cell_type": "markdown",
      "source": [
        "## Вибірка"
      ]
    },
    {
      "metadata": {
        "id": "CKNybgD-qBqR",
        "colab_type": "text"
      },
      "cell_type": "markdown",
      "source": [
        "### Проста випадкова вибірка (ПВВ) (simple random sample)"
      ]
    },
    {
      "metadata": {
        "id": "CTXIm_OqrHML",
        "colab_type": "code",
        "outputId": "0af0459f-c67c-4c7d-bdd8-d0f6fed72344",
        "colab": {
          "base_uri": "https://localhost:8080/",
          "height": 613
        }
      },
      "cell_type": "code",
      "source": [
        "random_sample = df.sample(int(df.shape[0]*0.4))\n",
        "random_sample"
      ],
      "execution_count": 0,
      "outputs": [
        {
          "output_type": "execute_result",
          "data": {
            "text/html": [
              "<div>\n",
              "<style scoped>\n",
              "    .dataframe tbody tr th:only-of-type {\n",
              "        vertical-align: middle;\n",
              "    }\n",
              "\n",
              "    .dataframe tbody tr th {\n",
              "        vertical-align: top;\n",
              "    }\n",
              "\n",
              "    .dataframe thead th {\n",
              "        text-align: right;\n",
              "    }\n",
              "</style>\n",
              "<table border=\"1\" class=\"dataframe\">\n",
              "  <thead>\n",
              "    <tr style=\"text-align: right;\">\n",
              "      <th></th>\n",
              "      <th>Name</th>\n",
              "      <th>Rarity</th>\n",
              "      <th>Fire Rate</th>\n",
              "      <th>Mag Size</th>\n",
              "      <th>Reload Time</th>\n",
              "      <th>Multiplier</th>\n",
              "      <th>Damage (Body)</th>\n",
              "      <th>Damage (Head)</th>\n",
              "      <th>DPS (Body)</th>\n",
              "      <th>DPS (Head)</th>\n",
              "      <th>Shots/Kill Avg (Body)</th>\n",
              "      <th>Shots/Kill Avg (Head)</th>\n",
              "    </tr>\n",
              "  </thead>\n",
              "  <tbody>\n",
              "    <tr>\n",
              "      <th>21</th>\n",
              "      <td>Hunting Rifle</td>\n",
              "      <td>Rare</td>\n",
              "      <td>0.80</td>\n",
              "      <td>1</td>\n",
              "      <td>1.8</td>\n",
              "      <td>2.5</td>\n",
              "      <td>90</td>\n",
              "      <td>225.0</td>\n",
              "      <td>72.00</td>\n",
              "      <td>180.00</td>\n",
              "      <td>2.00</td>\n",
              "      <td>1.00</td>\n",
              "    </tr>\n",
              "    <tr>\n",
              "      <th>27</th>\n",
              "      <td>Tactical Submachine Gun</td>\n",
              "      <td>Uncommon</td>\n",
              "      <td>10.00</td>\n",
              "      <td>30</td>\n",
              "      <td>2.4</td>\n",
              "      <td>2.5</td>\n",
              "      <td>16</td>\n",
              "      <td>40.0</td>\n",
              "      <td>160.00</td>\n",
              "      <td>400.00</td>\n",
              "      <td>8.75</td>\n",
              "      <td>3.50</td>\n",
              "    </tr>\n",
              "    <tr>\n",
              "      <th>35</th>\n",
              "      <td>Revolver</td>\n",
              "      <td>Rare</td>\n",
              "      <td>0.90</td>\n",
              "      <td>6</td>\n",
              "      <td>2.2</td>\n",
              "      <td>2.0</td>\n",
              "      <td>60</td>\n",
              "      <td>120.0</td>\n",
              "      <td>54.00</td>\n",
              "      <td>108.00</td>\n",
              "      <td>2.75</td>\n",
              "      <td>1.50</td>\n",
              "    </tr>\n",
              "    <tr>\n",
              "      <th>37</th>\n",
              "      <td>Pistol</td>\n",
              "      <td>Uncommon</td>\n",
              "      <td>6.75</td>\n",
              "      <td>16</td>\n",
              "      <td>1.5</td>\n",
              "      <td>2.0</td>\n",
              "      <td>24</td>\n",
              "      <td>48.0</td>\n",
              "      <td>162.00</td>\n",
              "      <td>324.00</td>\n",
              "      <td>6.25</td>\n",
              "      <td>3.50</td>\n",
              "    </tr>\n",
              "    <tr>\n",
              "      <th>42</th>\n",
              "      <td>Hand Cannon</td>\n",
              "      <td>Legendary</td>\n",
              "      <td>0.80</td>\n",
              "      <td>7</td>\n",
              "      <td>2.0</td>\n",
              "      <td>2.0</td>\n",
              "      <td>78</td>\n",
              "      <td>156.0</td>\n",
              "      <td>62.40</td>\n",
              "      <td>124.80</td>\n",
              "      <td>2.00</td>\n",
              "      <td>1.25</td>\n",
              "    </tr>\n",
              "    <tr>\n",
              "      <th>7</th>\n",
              "      <td>Assault Rifle (Burst)</td>\n",
              "      <td>Uncommon</td>\n",
              "      <td>4.06</td>\n",
              "      <td>30</td>\n",
              "      <td>2.7</td>\n",
              "      <td>2.0</td>\n",
              "      <td>29</td>\n",
              "      <td>58.0</td>\n",
              "      <td>117.74</td>\n",
              "      <td>235.48</td>\n",
              "      <td>5.00</td>\n",
              "      <td>2.75</td>\n",
              "    </tr>\n",
              "    <tr>\n",
              "      <th>34</th>\n",
              "      <td>Revolver</td>\n",
              "      <td>Uncommon</td>\n",
              "      <td>0.90</td>\n",
              "      <td>6</td>\n",
              "      <td>2.3</td>\n",
              "      <td>2.0</td>\n",
              "      <td>57</td>\n",
              "      <td>114.0</td>\n",
              "      <td>51.30</td>\n",
              "      <td>102.60</td>\n",
              "      <td>2.75</td>\n",
              "      <td>1.50</td>\n",
              "    </tr>\n",
              "    <tr>\n",
              "      <th>39</th>\n",
              "      <td>Suppressed Pistol</td>\n",
              "      <td>Epic</td>\n",
              "      <td>6.75</td>\n",
              "      <td>16</td>\n",
              "      <td>1.3</td>\n",
              "      <td>2.0</td>\n",
              "      <td>26</td>\n",
              "      <td>52.0</td>\n",
              "      <td>175.50</td>\n",
              "      <td>351.00</td>\n",
              "      <td>5.25</td>\n",
              "      <td>2.75</td>\n",
              "    </tr>\n",
              "    <tr>\n",
              "      <th>22</th>\n",
              "      <td>Tactical Shotgun</td>\n",
              "      <td>Common</td>\n",
              "      <td>1.50</td>\n",
              "      <td>8</td>\n",
              "      <td>6.3</td>\n",
              "      <td>2.0</td>\n",
              "      <td>67</td>\n",
              "      <td>134.0</td>\n",
              "      <td>100.50</td>\n",
              "      <td>201.00</td>\n",
              "      <td>2.50</td>\n",
              "      <td>1.50</td>\n",
              "    </tr>\n",
              "    <tr>\n",
              "      <th>28</th>\n",
              "      <td>Tactical Submachine Gun</td>\n",
              "      <td>Rare</td>\n",
              "      <td>10.00</td>\n",
              "      <td>30</td>\n",
              "      <td>2.3</td>\n",
              "      <td>2.5</td>\n",
              "      <td>17</td>\n",
              "      <td>42.5</td>\n",
              "      <td>170.00</td>\n",
              "      <td>425.00</td>\n",
              "      <td>8.00</td>\n",
              "      <td>3.50</td>\n",
              "    </tr>\n",
              "    <tr>\n",
              "      <th>26</th>\n",
              "      <td>Pump Shotgun</td>\n",
              "      <td>Rare</td>\n",
              "      <td>0.70</td>\n",
              "      <td>5</td>\n",
              "      <td>4.6</td>\n",
              "      <td>2.0</td>\n",
              "      <td>85</td>\n",
              "      <td>170.0</td>\n",
              "      <td>59.50</td>\n",
              "      <td>119.00</td>\n",
              "      <td>2.00</td>\n",
              "      <td>1.25</td>\n",
              "    </tr>\n",
              "    <tr>\n",
              "      <th>25</th>\n",
              "      <td>Pump Shotgun</td>\n",
              "      <td>Uncommon</td>\n",
              "      <td>0.70</td>\n",
              "      <td>5</td>\n",
              "      <td>4.8</td>\n",
              "      <td>2.0</td>\n",
              "      <td>80</td>\n",
              "      <td>160.0</td>\n",
              "      <td>56.00</td>\n",
              "      <td>112.00</td>\n",
              "      <td>2.00</td>\n",
              "      <td>1.25</td>\n",
              "    </tr>\n",
              "    <tr>\n",
              "      <th>36</th>\n",
              "      <td>Pistol</td>\n",
              "      <td>Common</td>\n",
              "      <td>6.75</td>\n",
              "      <td>16</td>\n",
              "      <td>1.5</td>\n",
              "      <td>2.0</td>\n",
              "      <td>23</td>\n",
              "      <td>46.0</td>\n",
              "      <td>155.25</td>\n",
              "      <td>310.50</td>\n",
              "      <td>6.25</td>\n",
              "      <td>3.50</td>\n",
              "    </tr>\n",
              "    <tr>\n",
              "      <th>10</th>\n",
              "      <td>Assault Rifle (Burst)</td>\n",
              "      <td>Legendary</td>\n",
              "      <td>1.75</td>\n",
              "      <td>30</td>\n",
              "      <td>2.3</td>\n",
              "      <td>2.0</td>\n",
              "      <td>33</td>\n",
              "      <td>66.0</td>\n",
              "      <td>57.75</td>\n",
              "      <td>115.50</td>\n",
              "      <td>4.75</td>\n",
              "      <td>2.75</td>\n",
              "    </tr>\n",
              "    <tr>\n",
              "      <th>41</th>\n",
              "      <td>Hand Cannon</td>\n",
              "      <td>Epic</td>\n",
              "      <td>0.80</td>\n",
              "      <td>7</td>\n",
              "      <td>2.1</td>\n",
              "      <td>2.0</td>\n",
              "      <td>75</td>\n",
              "      <td>150.0</td>\n",
              "      <td>60.00</td>\n",
              "      <td>120.00</td>\n",
              "      <td>2.00</td>\n",
              "      <td>1.25</td>\n",
              "    </tr>\n",
              "    <tr>\n",
              "      <th>11</th>\n",
              "      <td>Assault Rifle (Scoped)</td>\n",
              "      <td>Rare</td>\n",
              "      <td>3.50</td>\n",
              "      <td>20</td>\n",
              "      <td>2.3</td>\n",
              "      <td>2.0</td>\n",
              "      <td>23</td>\n",
              "      <td>46.0</td>\n",
              "      <td>80.50</td>\n",
              "      <td>161.00</td>\n",
              "      <td>6.25</td>\n",
              "      <td>3.50</td>\n",
              "    </tr>\n",
              "  </tbody>\n",
              "</table>\n",
              "</div>"
            ],
            "text/plain": [
              "                       Name     Rarity  Fire Rate  Mag Size  Reload Time  \\\n",
              "21            Hunting Rifle       Rare       0.80         1          1.8   \n",
              "27  Tactical Submachine Gun   Uncommon      10.00        30          2.4   \n",
              "35                 Revolver       Rare       0.90         6          2.2   \n",
              "37                   Pistol   Uncommon       6.75        16          1.5   \n",
              "42              Hand Cannon  Legendary       0.80         7          2.0   \n",
              "7     Assault Rifle (Burst)   Uncommon       4.06        30          2.7   \n",
              "34                 Revolver   Uncommon       0.90         6          2.3   \n",
              "39        Suppressed Pistol       Epic       6.75        16          1.3   \n",
              "22         Tactical Shotgun     Common       1.50         8          6.3   \n",
              "28  Tactical Submachine Gun       Rare      10.00        30          2.3   \n",
              "26             Pump Shotgun       Rare       0.70         5          4.6   \n",
              "25             Pump Shotgun   Uncommon       0.70         5          4.8   \n",
              "36                   Pistol     Common       6.75        16          1.5   \n",
              "10    Assault Rifle (Burst)  Legendary       1.75        30          2.3   \n",
              "41              Hand Cannon       Epic       0.80         7          2.1   \n",
              "11   Assault Rifle (Scoped)       Rare       3.50        20          2.3   \n",
              "\n",
              "    Multiplier  Damage (Body)  Damage (Head)  DPS (Body)  DPS (Head)  \\\n",
              "21         2.5             90          225.0       72.00      180.00   \n",
              "27         2.5             16           40.0      160.00      400.00   \n",
              "35         2.0             60          120.0       54.00      108.00   \n",
              "37         2.0             24           48.0      162.00      324.00   \n",
              "42         2.0             78          156.0       62.40      124.80   \n",
              "7          2.0             29           58.0      117.74      235.48   \n",
              "34         2.0             57          114.0       51.30      102.60   \n",
              "39         2.0             26           52.0      175.50      351.00   \n",
              "22         2.0             67          134.0      100.50      201.00   \n",
              "28         2.5             17           42.5      170.00      425.00   \n",
              "26         2.0             85          170.0       59.50      119.00   \n",
              "25         2.0             80          160.0       56.00      112.00   \n",
              "36         2.0             23           46.0      155.25      310.50   \n",
              "10         2.0             33           66.0       57.75      115.50   \n",
              "41         2.0             75          150.0       60.00      120.00   \n",
              "11         2.0             23           46.0       80.50      161.00   \n",
              "\n",
              "    Shots/Kill Avg (Body)  Shots/Kill Avg (Head)  \n",
              "21                   2.00                   1.00  \n",
              "27                   8.75                   3.50  \n",
              "35                   2.75                   1.50  \n",
              "37                   6.25                   3.50  \n",
              "42                   2.00                   1.25  \n",
              "7                    5.00                   2.75  \n",
              "34                   2.75                   1.50  \n",
              "39                   5.25                   2.75  \n",
              "22                   2.50                   1.50  \n",
              "28                   8.00                   3.50  \n",
              "26                   2.00                   1.25  \n",
              "25                   2.00                   1.25  \n",
              "36                   6.25                   3.50  \n",
              "10                   4.75                   2.75  \n",
              "41                   2.00                   1.25  \n",
              "11                   6.25                   3.50  "
            ]
          },
          "metadata": {
            "tags": []
          },
          "execution_count": 23
        }
      ]
    },
    {
      "metadata": {
        "id": "4V2P9redqRb6",
        "colab_type": "text"
      },
      "cell_type": "markdown",
      "source": [
        "### Стратифікована вибірка (stratified sample)"
      ]
    },
    {
      "metadata": {
        "id": "e_wm651VA9w5",
        "colab_type": "text"
      },
      "cell_type": "markdown",
      "source": [
        "В даній вибірці я обрав групи за певним рейтингом"
      ]
    },
    {
      "metadata": {
        "id": "yFXce1O4rKM6",
        "colab_type": "code",
        "outputId": "73ad6668-d89d-4e18-c83d-787417075e23",
        "colab": {
          "base_uri": "https://localhost:8080/",
          "height": 579
        }
      },
      "cell_type": "code",
      "source": [
        "groups = [pd.DataFrame]*3\n",
        "groups[0] = df[df['DPS (Head)'] < 100]\n",
        "groups[1] = df[(df['DPS (Head)'] >= 100) & (df['DPS (Head)'] <= 300)]\n",
        "groups[2] = df[(df['DPS (Head)'] > 300)]\n",
        "for i,group in enumerate(groups):\n",
        "  groups[i] = groups[i].sample(int(len(groups[i].index)*0.4))\n",
        "\n",
        "strat_sample = pd.concat(groups)\n",
        "\n",
        "strat_sample"
      ],
      "execution_count": 0,
      "outputs": [
        {
          "output_type": "execute_result",
          "data": {
            "text/html": [
              "<div>\n",
              "<style scoped>\n",
              "    .dataframe tbody tr th:only-of-type {\n",
              "        vertical-align: middle;\n",
              "    }\n",
              "\n",
              "    .dataframe tbody tr th {\n",
              "        vertical-align: top;\n",
              "    }\n",
              "\n",
              "    .dataframe thead th {\n",
              "        text-align: right;\n",
              "    }\n",
              "</style>\n",
              "<table border=\"1\" class=\"dataframe\">\n",
              "  <thead>\n",
              "    <tr style=\"text-align: right;\">\n",
              "      <th></th>\n",
              "      <th>Name</th>\n",
              "      <th>Rarity</th>\n",
              "      <th>Fire Rate</th>\n",
              "      <th>Mag Size</th>\n",
              "      <th>Reload Time</th>\n",
              "      <th>Multiplier</th>\n",
              "      <th>Damage (Body)</th>\n",
              "      <th>Damage (Head)</th>\n",
              "      <th>DPS (Body)</th>\n",
              "      <th>DPS (Head)</th>\n",
              "      <th>Shots/Kill Avg (Body)</th>\n",
              "      <th>Shots/Kill Avg (Head)</th>\n",
              "    </tr>\n",
              "  </thead>\n",
              "  <tbody>\n",
              "    <tr>\n",
              "      <th>15</th>\n",
              "      <td>Bolt-Action Sniper Rifle</td>\n",
              "      <td>Legendary</td>\n",
              "      <td>0.33</td>\n",
              "      <td>1</td>\n",
              "      <td>2.7</td>\n",
              "      <td>2.5</td>\n",
              "      <td>116</td>\n",
              "      <td>290.0</td>\n",
              "      <td>38.28</td>\n",
              "      <td>95.700</td>\n",
              "      <td>1.50</td>\n",
              "      <td>1.00</td>\n",
              "    </tr>\n",
              "    <tr>\n",
              "      <th>13</th>\n",
              "      <td>Bolt-Action Sniper Rifle</td>\n",
              "      <td>Rare</td>\n",
              "      <td>0.33</td>\n",
              "      <td>1</td>\n",
              "      <td>3.0</td>\n",
              "      <td>2.5</td>\n",
              "      <td>105</td>\n",
              "      <td>262.5</td>\n",
              "      <td>34.65</td>\n",
              "      <td>86.625</td>\n",
              "      <td>1.50</td>\n",
              "      <td>1.00</td>\n",
              "    </tr>\n",
              "    <tr>\n",
              "      <th>24</th>\n",
              "      <td>Tactical Shotgun</td>\n",
              "      <td>Rare</td>\n",
              "      <td>1.50</td>\n",
              "      <td>8</td>\n",
              "      <td>6.0</td>\n",
              "      <td>2.0</td>\n",
              "      <td>74</td>\n",
              "      <td>148.0</td>\n",
              "      <td>111.00</td>\n",
              "      <td>222.000</td>\n",
              "      <td>2.50</td>\n",
              "      <td>1.50</td>\n",
              "    </tr>\n",
              "    <tr>\n",
              "      <th>23</th>\n",
              "      <td>Tactical Shotgun</td>\n",
              "      <td>Uncommon</td>\n",
              "      <td>1.50</td>\n",
              "      <td>8</td>\n",
              "      <td>6.0</td>\n",
              "      <td>2.0</td>\n",
              "      <td>70</td>\n",
              "      <td>140.0</td>\n",
              "      <td>105.00</td>\n",
              "      <td>210.000</td>\n",
              "      <td>2.50</td>\n",
              "      <td>1.50</td>\n",
              "    </tr>\n",
              "    <tr>\n",
              "      <th>42</th>\n",
              "      <td>Hand Cannon</td>\n",
              "      <td>Legendary</td>\n",
              "      <td>0.80</td>\n",
              "      <td>7</td>\n",
              "      <td>2.0</td>\n",
              "      <td>2.0</td>\n",
              "      <td>78</td>\n",
              "      <td>156.0</td>\n",
              "      <td>62.40</td>\n",
              "      <td>124.800</td>\n",
              "      <td>2.00</td>\n",
              "      <td>1.25</td>\n",
              "    </tr>\n",
              "    <tr>\n",
              "      <th>9</th>\n",
              "      <td>Assault Rifle (Burst)</td>\n",
              "      <td>Epic</td>\n",
              "      <td>1.75</td>\n",
              "      <td>30</td>\n",
              "      <td>2.5</td>\n",
              "      <td>2.0</td>\n",
              "      <td>32</td>\n",
              "      <td>64.0</td>\n",
              "      <td>56.00</td>\n",
              "      <td>112.000</td>\n",
              "      <td>4.75</td>\n",
              "      <td>2.75</td>\n",
              "    </tr>\n",
              "    <tr>\n",
              "      <th>21</th>\n",
              "      <td>Hunting Rifle</td>\n",
              "      <td>Rare</td>\n",
              "      <td>0.80</td>\n",
              "      <td>1</td>\n",
              "      <td>1.8</td>\n",
              "      <td>2.5</td>\n",
              "      <td>90</td>\n",
              "      <td>225.0</td>\n",
              "      <td>72.00</td>\n",
              "      <td>180.000</td>\n",
              "      <td>2.00</td>\n",
              "      <td>1.00</td>\n",
              "    </tr>\n",
              "    <tr>\n",
              "      <th>41</th>\n",
              "      <td>Hand Cannon</td>\n",
              "      <td>Epic</td>\n",
              "      <td>0.80</td>\n",
              "      <td>7</td>\n",
              "      <td>2.1</td>\n",
              "      <td>2.0</td>\n",
              "      <td>75</td>\n",
              "      <td>150.0</td>\n",
              "      <td>60.00</td>\n",
              "      <td>120.000</td>\n",
              "      <td>2.00</td>\n",
              "      <td>1.25</td>\n",
              "    </tr>\n",
              "    <tr>\n",
              "      <th>17</th>\n",
              "      <td>Semi-Auto Sniper Rifle</td>\n",
              "      <td>Legendary</td>\n",
              "      <td>1.20</td>\n",
              "      <td>10</td>\n",
              "      <td>2.3</td>\n",
              "      <td>2.5</td>\n",
              "      <td>66</td>\n",
              "      <td>165.0</td>\n",
              "      <td>79.20</td>\n",
              "      <td>198.000</td>\n",
              "      <td>2.75</td>\n",
              "      <td>1.25</td>\n",
              "    </tr>\n",
              "    <tr>\n",
              "      <th>34</th>\n",
              "      <td>Revolver</td>\n",
              "      <td>Uncommon</td>\n",
              "      <td>0.90</td>\n",
              "      <td>6</td>\n",
              "      <td>2.3</td>\n",
              "      <td>2.0</td>\n",
              "      <td>57</td>\n",
              "      <td>114.0</td>\n",
              "      <td>51.30</td>\n",
              "      <td>102.600</td>\n",
              "      <td>2.75</td>\n",
              "      <td>1.50</td>\n",
              "    </tr>\n",
              "    <tr>\n",
              "      <th>37</th>\n",
              "      <td>Pistol</td>\n",
              "      <td>Uncommon</td>\n",
              "      <td>6.75</td>\n",
              "      <td>16</td>\n",
              "      <td>1.5</td>\n",
              "      <td>2.0</td>\n",
              "      <td>24</td>\n",
              "      <td>48.0</td>\n",
              "      <td>162.00</td>\n",
              "      <td>324.000</td>\n",
              "      <td>6.25</td>\n",
              "      <td>3.50</td>\n",
              "    </tr>\n",
              "    <tr>\n",
              "      <th>31</th>\n",
              "      <td>Submachine Gun (Suppressor)</td>\n",
              "      <td>Uncommon</td>\n",
              "      <td>9.00</td>\n",
              "      <td>30</td>\n",
              "      <td>2.1</td>\n",
              "      <td>2.0</td>\n",
              "      <td>21</td>\n",
              "      <td>42.0</td>\n",
              "      <td>189.00</td>\n",
              "      <td>378.000</td>\n",
              "      <td>6.75</td>\n",
              "      <td>3.50</td>\n",
              "    </tr>\n",
              "    <tr>\n",
              "      <th>1</th>\n",
              "      <td>Assault Rifle (M4)</td>\n",
              "      <td>Common</td>\n",
              "      <td>5.50</td>\n",
              "      <td>30</td>\n",
              "      <td>2.3</td>\n",
              "      <td>2.0</td>\n",
              "      <td>30</td>\n",
              "      <td>60.0</td>\n",
              "      <td>165.00</td>\n",
              "      <td>330.000</td>\n",
              "      <td>4.75</td>\n",
              "      <td>2.75</td>\n",
              "    </tr>\n",
              "    <tr>\n",
              "      <th>3</th>\n",
              "      <td>Assault Rifle (M4)</td>\n",
              "      <td>Rare</td>\n",
              "      <td>5.50</td>\n",
              "      <td>30</td>\n",
              "      <td>2.2</td>\n",
              "      <td>2.0</td>\n",
              "      <td>33</td>\n",
              "      <td>66.0</td>\n",
              "      <td>181.50</td>\n",
              "      <td>363.000</td>\n",
              "      <td>4.75</td>\n",
              "      <td>2.75</td>\n",
              "    </tr>\n",
              "    <tr>\n",
              "      <th>2</th>\n",
              "      <td>Assault Rifle (M4)</td>\n",
              "      <td>Uncommon</td>\n",
              "      <td>5.50</td>\n",
              "      <td>30</td>\n",
              "      <td>2.2</td>\n",
              "      <td>2.0</td>\n",
              "      <td>31</td>\n",
              "      <td>62.0</td>\n",
              "      <td>170.50</td>\n",
              "      <td>341.000</td>\n",
              "      <td>4.75</td>\n",
              "      <td>2.75</td>\n",
              "    </tr>\n",
              "    <tr>\n",
              "      <th>27</th>\n",
              "      <td>Tactical Submachine Gun</td>\n",
              "      <td>Uncommon</td>\n",
              "      <td>10.00</td>\n",
              "      <td>30</td>\n",
              "      <td>2.4</td>\n",
              "      <td>2.5</td>\n",
              "      <td>16</td>\n",
              "      <td>40.0</td>\n",
              "      <td>160.00</td>\n",
              "      <td>400.000</td>\n",
              "      <td>8.75</td>\n",
              "      <td>3.50</td>\n",
              "    </tr>\n",
              "  </tbody>\n",
              "</table>\n",
              "</div>"
            ],
            "text/plain": [
              "                           Name     Rarity  Fire Rate  Mag Size  Reload Time  \\\n",
              "15     Bolt-Action Sniper Rifle  Legendary       0.33         1          2.7   \n",
              "13     Bolt-Action Sniper Rifle       Rare       0.33         1          3.0   \n",
              "24             Tactical Shotgun       Rare       1.50         8          6.0   \n",
              "23             Tactical Shotgun   Uncommon       1.50         8          6.0   \n",
              "42                  Hand Cannon  Legendary       0.80         7          2.0   \n",
              "9         Assault Rifle (Burst)       Epic       1.75        30          2.5   \n",
              "21                Hunting Rifle       Rare       0.80         1          1.8   \n",
              "41                  Hand Cannon       Epic       0.80         7          2.1   \n",
              "17       Semi-Auto Sniper Rifle  Legendary       1.20        10          2.3   \n",
              "34                     Revolver   Uncommon       0.90         6          2.3   \n",
              "37                       Pistol   Uncommon       6.75        16          1.5   \n",
              "31  Submachine Gun (Suppressor)   Uncommon       9.00        30          2.1   \n",
              "1            Assault Rifle (M4)     Common       5.50        30          2.3   \n",
              "3            Assault Rifle (M4)       Rare       5.50        30          2.2   \n",
              "2            Assault Rifle (M4)   Uncommon       5.50        30          2.2   \n",
              "27      Tactical Submachine Gun   Uncommon      10.00        30          2.4   \n",
              "\n",
              "    Multiplier  Damage (Body)  Damage (Head)  DPS (Body)  DPS (Head)  \\\n",
              "15         2.5            116          290.0       38.28      95.700   \n",
              "13         2.5            105          262.5       34.65      86.625   \n",
              "24         2.0             74          148.0      111.00     222.000   \n",
              "23         2.0             70          140.0      105.00     210.000   \n",
              "42         2.0             78          156.0       62.40     124.800   \n",
              "9          2.0             32           64.0       56.00     112.000   \n",
              "21         2.5             90          225.0       72.00     180.000   \n",
              "41         2.0             75          150.0       60.00     120.000   \n",
              "17         2.5             66          165.0       79.20     198.000   \n",
              "34         2.0             57          114.0       51.30     102.600   \n",
              "37         2.0             24           48.0      162.00     324.000   \n",
              "31         2.0             21           42.0      189.00     378.000   \n",
              "1          2.0             30           60.0      165.00     330.000   \n",
              "3          2.0             33           66.0      181.50     363.000   \n",
              "2          2.0             31           62.0      170.50     341.000   \n",
              "27         2.5             16           40.0      160.00     400.000   \n",
              "\n",
              "    Shots/Kill Avg (Body)  Shots/Kill Avg (Head)  \n",
              "15                   1.50                   1.00  \n",
              "13                   1.50                   1.00  \n",
              "24                   2.50                   1.50  \n",
              "23                   2.50                   1.50  \n",
              "42                   2.00                   1.25  \n",
              "9                    4.75                   2.75  \n",
              "21                   2.00                   1.00  \n",
              "41                   2.00                   1.25  \n",
              "17                   2.75                   1.25  \n",
              "34                   2.75                   1.50  \n",
              "37                   6.25                   3.50  \n",
              "31                   6.75                   3.50  \n",
              "1                    4.75                   2.75  \n",
              "3                    4.75                   2.75  \n",
              "2                    4.75                   2.75  \n",
              "27                   8.75                   3.50  "
            ]
          },
          "metadata": {
            "tags": []
          },
          "execution_count": 24
        }
      ]
    },
    {
      "metadata": {
        "id": "5RMgBlMlqYoj",
        "colab_type": "text"
      },
      "cell_type": "markdown",
      "source": [
        "### Групова вибірка (cluster sample)"
      ]
    },
    {
      "metadata": {
        "id": "9t57Sk92Bxp0",
        "colab_type": "text"
      },
      "cell_type": "markdown",
      "source": [
        "В даній вибірці я обрав групи, які схожі один на одного тим, що гравці не входять в жодну з команд, задавши додаткові умови"
      ]
    },
    {
      "metadata": {
        "id": "OmOCVikfrPZs",
        "colab_type": "code",
        "outputId": "fccfea02-61b7-4cd5-c0cb-5c1264840508",
        "colab": {
          "base_uri": "https://localhost:8080/",
          "height": 937
        }
      },
      "cell_type": "code",
      "source": [
        "groups = [pd.DataFrame]*3\n",
        "groups[0] = df[(df['Rarity'] == 'Common')]\n",
        "groups[1] = df[(df['Rarity'] == 'Rare')]\n",
        "groups[2] = df[(df['Rarity'] == 'Epic')]\n",
        "               \n",
        "for i,group in enumerate(groups):\n",
        "  groups[i] = groups[i].sample(int(len(groups[i].index)*1))\n",
        "strat_sample = pd.concat(groups)\n",
        "\n",
        "strat_sample"
      ],
      "execution_count": 0,
      "outputs": [
        {
          "output_type": "execute_result",
          "data": {
            "text/html": [
              "<div>\n",
              "<style scoped>\n",
              "    .dataframe tbody tr th:only-of-type {\n",
              "        vertical-align: middle;\n",
              "    }\n",
              "\n",
              "    .dataframe tbody tr th {\n",
              "        vertical-align: top;\n",
              "    }\n",
              "\n",
              "    .dataframe thead th {\n",
              "        text-align: right;\n",
              "    }\n",
              "</style>\n",
              "<table border=\"1\" class=\"dataframe\">\n",
              "  <thead>\n",
              "    <tr style=\"text-align: right;\">\n",
              "      <th></th>\n",
              "      <th>Name</th>\n",
              "      <th>Rarity</th>\n",
              "      <th>Fire Rate</th>\n",
              "      <th>Mag Size</th>\n",
              "      <th>Reload Time</th>\n",
              "      <th>Multiplier</th>\n",
              "      <th>Damage (Body)</th>\n",
              "      <th>Damage (Head)</th>\n",
              "      <th>DPS (Body)</th>\n",
              "      <th>DPS (Head)</th>\n",
              "      <th>Shots/Kill Avg (Body)</th>\n",
              "      <th>Shots/Kill Avg (Head)</th>\n",
              "    </tr>\n",
              "  </thead>\n",
              "  <tbody>\n",
              "    <tr>\n",
              "      <th>22</th>\n",
              "      <td>Tactical Shotgun</td>\n",
              "      <td>Common</td>\n",
              "      <td>1.50</td>\n",
              "      <td>8</td>\n",
              "      <td>6.3</td>\n",
              "      <td>2.0</td>\n",
              "      <td>67</td>\n",
              "      <td>134.0</td>\n",
              "      <td>100.50</td>\n",
              "      <td>201.000</td>\n",
              "      <td>2.50</td>\n",
              "      <td>1.50</td>\n",
              "    </tr>\n",
              "    <tr>\n",
              "      <th>1</th>\n",
              "      <td>Assault Rifle (M4)</td>\n",
              "      <td>Common</td>\n",
              "      <td>5.50</td>\n",
              "      <td>30</td>\n",
              "      <td>2.3</td>\n",
              "      <td>2.0</td>\n",
              "      <td>30</td>\n",
              "      <td>60.0</td>\n",
              "      <td>165.00</td>\n",
              "      <td>330.000</td>\n",
              "      <td>4.75</td>\n",
              "      <td>2.75</td>\n",
              "    </tr>\n",
              "    <tr>\n",
              "      <th>6</th>\n",
              "      <td>Assault Rifle (Burst)</td>\n",
              "      <td>Common</td>\n",
              "      <td>4.06</td>\n",
              "      <td>30</td>\n",
              "      <td>2.9</td>\n",
              "      <td>2.0</td>\n",
              "      <td>27</td>\n",
              "      <td>54.0</td>\n",
              "      <td>109.62</td>\n",
              "      <td>219.240</td>\n",
              "      <td>5.25</td>\n",
              "      <td>2.75</td>\n",
              "    </tr>\n",
              "    <tr>\n",
              "      <th>36</th>\n",
              "      <td>Pistol</td>\n",
              "      <td>Common</td>\n",
              "      <td>6.75</td>\n",
              "      <td>16</td>\n",
              "      <td>1.5</td>\n",
              "      <td>2.0</td>\n",
              "      <td>23</td>\n",
              "      <td>46.0</td>\n",
              "      <td>155.25</td>\n",
              "      <td>310.500</td>\n",
              "      <td>6.25</td>\n",
              "      <td>3.50</td>\n",
              "    </tr>\n",
              "    <tr>\n",
              "      <th>30</th>\n",
              "      <td>Submachine Gun (Suppressor)</td>\n",
              "      <td>Common</td>\n",
              "      <td>9.00</td>\n",
              "      <td>30</td>\n",
              "      <td>2.2</td>\n",
              "      <td>2.0</td>\n",
              "      <td>20</td>\n",
              "      <td>40.0</td>\n",
              "      <td>180.00</td>\n",
              "      <td>360.000</td>\n",
              "      <td>6.75</td>\n",
              "      <td>3.50</td>\n",
              "    </tr>\n",
              "    <tr>\n",
              "      <th>33</th>\n",
              "      <td>Revolver</td>\n",
              "      <td>Common</td>\n",
              "      <td>0.90</td>\n",
              "      <td>6</td>\n",
              "      <td>2.4</td>\n",
              "      <td>2.0</td>\n",
              "      <td>54</td>\n",
              "      <td>108.0</td>\n",
              "      <td>48.60</td>\n",
              "      <td>97.200</td>\n",
              "      <td>2.75</td>\n",
              "      <td>1.50</td>\n",
              "    </tr>\n",
              "    <tr>\n",
              "      <th>35</th>\n",
              "      <td>Revolver</td>\n",
              "      <td>Rare</td>\n",
              "      <td>0.90</td>\n",
              "      <td>6</td>\n",
              "      <td>2.2</td>\n",
              "      <td>2.0</td>\n",
              "      <td>60</td>\n",
              "      <td>120.0</td>\n",
              "      <td>54.00</td>\n",
              "      <td>108.000</td>\n",
              "      <td>2.75</td>\n",
              "      <td>1.50</td>\n",
              "    </tr>\n",
              "    <tr>\n",
              "      <th>24</th>\n",
              "      <td>Tactical Shotgun</td>\n",
              "      <td>Rare</td>\n",
              "      <td>1.50</td>\n",
              "      <td>8</td>\n",
              "      <td>6.0</td>\n",
              "      <td>2.0</td>\n",
              "      <td>74</td>\n",
              "      <td>148.0</td>\n",
              "      <td>111.00</td>\n",
              "      <td>222.000</td>\n",
              "      <td>2.50</td>\n",
              "      <td>1.50</td>\n",
              "    </tr>\n",
              "    <tr>\n",
              "      <th>13</th>\n",
              "      <td>Bolt-Action Sniper Rifle</td>\n",
              "      <td>Rare</td>\n",
              "      <td>0.33</td>\n",
              "      <td>1</td>\n",
              "      <td>3.0</td>\n",
              "      <td>2.5</td>\n",
              "      <td>105</td>\n",
              "      <td>262.5</td>\n",
              "      <td>34.65</td>\n",
              "      <td>86.625</td>\n",
              "      <td>1.50</td>\n",
              "      <td>1.00</td>\n",
              "    </tr>\n",
              "    <tr>\n",
              "      <th>11</th>\n",
              "      <td>Assault Rifle (Scoped)</td>\n",
              "      <td>Rare</td>\n",
              "      <td>3.50</td>\n",
              "      <td>20</td>\n",
              "      <td>2.3</td>\n",
              "      <td>2.0</td>\n",
              "      <td>23</td>\n",
              "      <td>46.0</td>\n",
              "      <td>80.50</td>\n",
              "      <td>161.000</td>\n",
              "      <td>6.25</td>\n",
              "      <td>3.50</td>\n",
              "    </tr>\n",
              "    <tr>\n",
              "      <th>32</th>\n",
              "      <td>Submachine Gun (Suppressor)</td>\n",
              "      <td>Rare</td>\n",
              "      <td>9.00</td>\n",
              "      <td>30</td>\n",
              "      <td>2.0</td>\n",
              "      <td>2.0</td>\n",
              "      <td>22</td>\n",
              "      <td>44.0</td>\n",
              "      <td>198.00</td>\n",
              "      <td>396.000</td>\n",
              "      <td>6.50</td>\n",
              "      <td>3.50</td>\n",
              "    </tr>\n",
              "    <tr>\n",
              "      <th>8</th>\n",
              "      <td>Assault Rifle (Burst)</td>\n",
              "      <td>Rare</td>\n",
              "      <td>4.06</td>\n",
              "      <td>30</td>\n",
              "      <td>2.6</td>\n",
              "      <td>2.0</td>\n",
              "      <td>30</td>\n",
              "      <td>60.0</td>\n",
              "      <td>121.80</td>\n",
              "      <td>243.600</td>\n",
              "      <td>4.75</td>\n",
              "      <td>2.75</td>\n",
              "    </tr>\n",
              "    <tr>\n",
              "      <th>21</th>\n",
              "      <td>Hunting Rifle</td>\n",
              "      <td>Rare</td>\n",
              "      <td>0.80</td>\n",
              "      <td>1</td>\n",
              "      <td>1.8</td>\n",
              "      <td>2.5</td>\n",
              "      <td>90</td>\n",
              "      <td>225.0</td>\n",
              "      <td>72.00</td>\n",
              "      <td>180.000</td>\n",
              "      <td>2.00</td>\n",
              "      <td>1.00</td>\n",
              "    </tr>\n",
              "    <tr>\n",
              "      <th>38</th>\n",
              "      <td>Pistol</td>\n",
              "      <td>Rare</td>\n",
              "      <td>6.75</td>\n",
              "      <td>16</td>\n",
              "      <td>1.4</td>\n",
              "      <td>2.0</td>\n",
              "      <td>25</td>\n",
              "      <td>50.0</td>\n",
              "      <td>168.75</td>\n",
              "      <td>337.500</td>\n",
              "      <td>5.25</td>\n",
              "      <td>2.75</td>\n",
              "    </tr>\n",
              "    <tr>\n",
              "      <th>18</th>\n",
              "      <td>Crossbow</td>\n",
              "      <td>Rare</td>\n",
              "      <td>0.60</td>\n",
              "      <td>5</td>\n",
              "      <td>2.6</td>\n",
              "      <td>2.0</td>\n",
              "      <td>75</td>\n",
              "      <td>150.0</td>\n",
              "      <td>45.00</td>\n",
              "      <td>90.000</td>\n",
              "      <td>2.00</td>\n",
              "      <td>1.25</td>\n",
              "    </tr>\n",
              "    <tr>\n",
              "      <th>3</th>\n",
              "      <td>Assault Rifle (M4)</td>\n",
              "      <td>Rare</td>\n",
              "      <td>5.50</td>\n",
              "      <td>30</td>\n",
              "      <td>2.2</td>\n",
              "      <td>2.0</td>\n",
              "      <td>33</td>\n",
              "      <td>66.0</td>\n",
              "      <td>181.50</td>\n",
              "      <td>363.000</td>\n",
              "      <td>4.75</td>\n",
              "      <td>2.75</td>\n",
              "    </tr>\n",
              "    <tr>\n",
              "      <th>26</th>\n",
              "      <td>Pump Shotgun</td>\n",
              "      <td>Rare</td>\n",
              "      <td>0.70</td>\n",
              "      <td>5</td>\n",
              "      <td>4.6</td>\n",
              "      <td>2.0</td>\n",
              "      <td>85</td>\n",
              "      <td>170.0</td>\n",
              "      <td>59.50</td>\n",
              "      <td>119.000</td>\n",
              "      <td>2.00</td>\n",
              "      <td>1.25</td>\n",
              "    </tr>\n",
              "    <tr>\n",
              "      <th>28</th>\n",
              "      <td>Tactical Submachine Gun</td>\n",
              "      <td>Rare</td>\n",
              "      <td>10.00</td>\n",
              "      <td>30</td>\n",
              "      <td>2.3</td>\n",
              "      <td>2.5</td>\n",
              "      <td>17</td>\n",
              "      <td>42.5</td>\n",
              "      <td>170.00</td>\n",
              "      <td>425.000</td>\n",
              "      <td>8.00</td>\n",
              "      <td>3.50</td>\n",
              "    </tr>\n",
              "    <tr>\n",
              "      <th>4</th>\n",
              "      <td>Assault Rifle (SCAR)</td>\n",
              "      <td>Epic</td>\n",
              "      <td>5.50</td>\n",
              "      <td>30</td>\n",
              "      <td>2.2</td>\n",
              "      <td>2.0</td>\n",
              "      <td>35</td>\n",
              "      <td>70.0</td>\n",
              "      <td>192.50</td>\n",
              "      <td>385.000</td>\n",
              "      <td>4.25</td>\n",
              "      <td>2.50</td>\n",
              "    </tr>\n",
              "    <tr>\n",
              "      <th>41</th>\n",
              "      <td>Hand Cannon</td>\n",
              "      <td>Epic</td>\n",
              "      <td>0.80</td>\n",
              "      <td>7</td>\n",
              "      <td>2.1</td>\n",
              "      <td>2.0</td>\n",
              "      <td>75</td>\n",
              "      <td>150.0</td>\n",
              "      <td>60.00</td>\n",
              "      <td>120.000</td>\n",
              "      <td>2.00</td>\n",
              "      <td>1.25</td>\n",
              "    </tr>\n",
              "    <tr>\n",
              "      <th>16</th>\n",
              "      <td>Semi-Auto Sniper Rifle</td>\n",
              "      <td>Epic</td>\n",
              "      <td>1.20</td>\n",
              "      <td>10</td>\n",
              "      <td>2.5</td>\n",
              "      <td>2.5</td>\n",
              "      <td>63</td>\n",
              "      <td>157.5</td>\n",
              "      <td>75.60</td>\n",
              "      <td>189.000</td>\n",
              "      <td>2.75</td>\n",
              "      <td>1.25</td>\n",
              "    </tr>\n",
              "    <tr>\n",
              "      <th>39</th>\n",
              "      <td>Suppressed Pistol</td>\n",
              "      <td>Epic</td>\n",
              "      <td>6.75</td>\n",
              "      <td>16</td>\n",
              "      <td>1.3</td>\n",
              "      <td>2.0</td>\n",
              "      <td>26</td>\n",
              "      <td>52.0</td>\n",
              "      <td>175.50</td>\n",
              "      <td>351.000</td>\n",
              "      <td>5.25</td>\n",
              "      <td>2.75</td>\n",
              "    </tr>\n",
              "    <tr>\n",
              "      <th>29</th>\n",
              "      <td>Tactical Submachine Gun</td>\n",
              "      <td>Epic</td>\n",
              "      <td>10.00</td>\n",
              "      <td>30</td>\n",
              "      <td>2.2</td>\n",
              "      <td>2.5</td>\n",
              "      <td>18</td>\n",
              "      <td>45.0</td>\n",
              "      <td>180.00</td>\n",
              "      <td>450.000</td>\n",
              "      <td>8.00</td>\n",
              "      <td>3.50</td>\n",
              "    </tr>\n",
              "    <tr>\n",
              "      <th>14</th>\n",
              "      <td>Bolt-Action Sniper Rifle</td>\n",
              "      <td>Epic</td>\n",
              "      <td>0.33</td>\n",
              "      <td>1</td>\n",
              "      <td>2.8</td>\n",
              "      <td>2.5</td>\n",
              "      <td>110</td>\n",
              "      <td>275.0</td>\n",
              "      <td>36.30</td>\n",
              "      <td>90.750</td>\n",
              "      <td>1.50</td>\n",
              "      <td>1.00</td>\n",
              "    </tr>\n",
              "    <tr>\n",
              "      <th>12</th>\n",
              "      <td>Assault Rifle (Scoped)</td>\n",
              "      <td>Epic</td>\n",
              "      <td>3.50</td>\n",
              "      <td>20</td>\n",
              "      <td>2.2</td>\n",
              "      <td>2.0</td>\n",
              "      <td>24</td>\n",
              "      <td>48.0</td>\n",
              "      <td>84.00</td>\n",
              "      <td>168.000</td>\n",
              "      <td>6.25</td>\n",
              "      <td>3.50</td>\n",
              "    </tr>\n",
              "    <tr>\n",
              "      <th>9</th>\n",
              "      <td>Assault Rifle (Burst)</td>\n",
              "      <td>Epic</td>\n",
              "      <td>1.75</td>\n",
              "      <td>30</td>\n",
              "      <td>2.5</td>\n",
              "      <td>2.0</td>\n",
              "      <td>32</td>\n",
              "      <td>64.0</td>\n",
              "      <td>56.00</td>\n",
              "      <td>112.000</td>\n",
              "      <td>4.75</td>\n",
              "      <td>2.75</td>\n",
              "    </tr>\n",
              "    <tr>\n",
              "      <th>19</th>\n",
              "      <td>Crossbow</td>\n",
              "      <td>Epic</td>\n",
              "      <td>0.60</td>\n",
              "      <td>5</td>\n",
              "      <td>2.5</td>\n",
              "      <td>2.0</td>\n",
              "      <td>79</td>\n",
              "      <td>158.0</td>\n",
              "      <td>47.40</td>\n",
              "      <td>94.800</td>\n",
              "      <td>2.00</td>\n",
              "      <td>1.25</td>\n",
              "    </tr>\n",
              "  </tbody>\n",
              "</table>\n",
              "</div>"
            ],
            "text/plain": [
              "                           Name  Rarity  Fire Rate  Mag Size  Reload Time  \\\n",
              "22             Tactical Shotgun  Common       1.50         8          6.3   \n",
              "1            Assault Rifle (M4)  Common       5.50        30          2.3   \n",
              "6         Assault Rifle (Burst)  Common       4.06        30          2.9   \n",
              "36                       Pistol  Common       6.75        16          1.5   \n",
              "30  Submachine Gun (Suppressor)  Common       9.00        30          2.2   \n",
              "33                     Revolver  Common       0.90         6          2.4   \n",
              "35                     Revolver    Rare       0.90         6          2.2   \n",
              "24             Tactical Shotgun    Rare       1.50         8          6.0   \n",
              "13     Bolt-Action Sniper Rifle    Rare       0.33         1          3.0   \n",
              "11       Assault Rifle (Scoped)    Rare       3.50        20          2.3   \n",
              "32  Submachine Gun (Suppressor)    Rare       9.00        30          2.0   \n",
              "8         Assault Rifle (Burst)    Rare       4.06        30          2.6   \n",
              "21                Hunting Rifle    Rare       0.80         1          1.8   \n",
              "38                       Pistol    Rare       6.75        16          1.4   \n",
              "18                     Crossbow    Rare       0.60         5          2.6   \n",
              "3            Assault Rifle (M4)    Rare       5.50        30          2.2   \n",
              "26                 Pump Shotgun    Rare       0.70         5          4.6   \n",
              "28      Tactical Submachine Gun    Rare      10.00        30          2.3   \n",
              "4          Assault Rifle (SCAR)    Epic       5.50        30          2.2   \n",
              "41                  Hand Cannon    Epic       0.80         7          2.1   \n",
              "16       Semi-Auto Sniper Rifle    Epic       1.20        10          2.5   \n",
              "39            Suppressed Pistol    Epic       6.75        16          1.3   \n",
              "29      Tactical Submachine Gun    Epic      10.00        30          2.2   \n",
              "14     Bolt-Action Sniper Rifle    Epic       0.33         1          2.8   \n",
              "12       Assault Rifle (Scoped)    Epic       3.50        20          2.2   \n",
              "9         Assault Rifle (Burst)    Epic       1.75        30          2.5   \n",
              "19                     Crossbow    Epic       0.60         5          2.5   \n",
              "\n",
              "    Multiplier  Damage (Body)  Damage (Head)  DPS (Body)  DPS (Head)  \\\n",
              "22         2.0             67          134.0      100.50     201.000   \n",
              "1          2.0             30           60.0      165.00     330.000   \n",
              "6          2.0             27           54.0      109.62     219.240   \n",
              "36         2.0             23           46.0      155.25     310.500   \n",
              "30         2.0             20           40.0      180.00     360.000   \n",
              "33         2.0             54          108.0       48.60      97.200   \n",
              "35         2.0             60          120.0       54.00     108.000   \n",
              "24         2.0             74          148.0      111.00     222.000   \n",
              "13         2.5            105          262.5       34.65      86.625   \n",
              "11         2.0             23           46.0       80.50     161.000   \n",
              "32         2.0             22           44.0      198.00     396.000   \n",
              "8          2.0             30           60.0      121.80     243.600   \n",
              "21         2.5             90          225.0       72.00     180.000   \n",
              "38         2.0             25           50.0      168.75     337.500   \n",
              "18         2.0             75          150.0       45.00      90.000   \n",
              "3          2.0             33           66.0      181.50     363.000   \n",
              "26         2.0             85          170.0       59.50     119.000   \n",
              "28         2.5             17           42.5      170.00     425.000   \n",
              "4          2.0             35           70.0      192.50     385.000   \n",
              "41         2.0             75          150.0       60.00     120.000   \n",
              "16         2.5             63          157.5       75.60     189.000   \n",
              "39         2.0             26           52.0      175.50     351.000   \n",
              "29         2.5             18           45.0      180.00     450.000   \n",
              "14         2.5            110          275.0       36.30      90.750   \n",
              "12         2.0             24           48.0       84.00     168.000   \n",
              "9          2.0             32           64.0       56.00     112.000   \n",
              "19         2.0             79          158.0       47.40      94.800   \n",
              "\n",
              "    Shots/Kill Avg (Body)  Shots/Kill Avg (Head)  \n",
              "22                   2.50                   1.50  \n",
              "1                    4.75                   2.75  \n",
              "6                    5.25                   2.75  \n",
              "36                   6.25                   3.50  \n",
              "30                   6.75                   3.50  \n",
              "33                   2.75                   1.50  \n",
              "35                   2.75                   1.50  \n",
              "24                   2.50                   1.50  \n",
              "13                   1.50                   1.00  \n",
              "11                   6.25                   3.50  \n",
              "32                   6.50                   3.50  \n",
              "8                    4.75                   2.75  \n",
              "21                   2.00                   1.00  \n",
              "38                   5.25                   2.75  \n",
              "18                   2.00                   1.25  \n",
              "3                    4.75                   2.75  \n",
              "26                   2.00                   1.25  \n",
              "28                   8.00                   3.50  \n",
              "4                    4.25                   2.50  \n",
              "41                   2.00                   1.25  \n",
              "16                   2.75                   1.25  \n",
              "39                   5.25                   2.75  \n",
              "29                   8.00                   3.50  \n",
              "14                   1.50                   1.00  \n",
              "12                   6.25                   3.50  \n",
              "9                    4.75                   2.75  \n",
              "19                   2.00                   1.25  "
            ]
          },
          "metadata": {
            "tags": []
          },
          "execution_count": 25
        }
      ]
    },
    {
      "metadata": {
        "id": "FYidRX7Aoi7U",
        "colab_type": "text"
      },
      "cell_type": "markdown",
      "source": [
        "## Міри мінливості"
      ]
    },
    {
      "metadata": {
        "id": "2Z3STsIECOQZ",
        "colab_type": "text"
      },
      "cell_type": "markdown",
      "source": [
        "**Розмах**"
      ]
    },
    {
      "metadata": {
        "id": "d1-Nc1bGqtPo",
        "colab_type": "code",
        "outputId": "883ac63b-6d7f-49b4-b62d-9eca8398868a",
        "colab": {
          "base_uri": "https://localhost:8080/",
          "height": 34
        }
      },
      "cell_type": "code",
      "source": [
        "R = df['DPS (Head)'].max() - df['DPS (Head)'].min()\n",
        "R"
      ],
      "execution_count": 0,
      "outputs": [
        {
          "output_type": "execute_result",
          "data": {
            "text/plain": [
              "363.375"
            ]
          },
          "metadata": {
            "tags": []
          },
          "execution_count": 26
        }
      ]
    },
    {
      "metadata": {
        "id": "ceE_snQuCRlD",
        "colab_type": "text"
      },
      "cell_type": "markdown",
      "source": [
        "**Дисперсія**"
      ]
    },
    {
      "metadata": {
        "id": "xfsqPaM3qubw",
        "colab_type": "code",
        "outputId": "48e05c20-2972-4e94-b14e-8469ce586af4",
        "colab": {
          "base_uri": "https://localhost:8080/",
          "height": 204
        }
      },
      "cell_type": "code",
      "source": [
        "var = df.var()\n",
        "var"
      ],
      "execution_count": 0,
      "outputs": [
        {
          "output_type": "execute_result",
          "data": {
            "text/plain": [
              "Fire Rate                   10.475835\n",
              "Mag Size                   133.731127\n",
              "Reload Time                  1.404094\n",
              "Multiplier                   0.046458\n",
              "Damage (Body)              840.825203\n",
              "Damage (Head)             4987.188879\n",
              "DPS (Body)                3235.955861\n",
              "DPS (Head)               14052.185465\n",
              "Shots/Kill Avg (Body)        4.176684\n",
              "Shots/Kill Avg (Head)        0.919171\n",
              "dtype: float64"
            ]
          },
          "metadata": {
            "tags": []
          },
          "execution_count": 27
        }
      ]
    },
    {
      "metadata": {
        "id": "4FxrH45nCVuI",
        "colab_type": "text"
      },
      "cell_type": "markdown",
      "source": [
        "**Standard deviation**"
      ]
    },
    {
      "metadata": {
        "id": "1x5jwZmFqwho",
        "colab_type": "code",
        "outputId": "6e1723dd-0780-4c3f-f879-25b943e598f1",
        "colab": {
          "base_uri": "https://localhost:8080/",
          "height": 204
        }
      },
      "cell_type": "code",
      "source": [
        "std = df.std()\n",
        "std"
      ],
      "execution_count": 0,
      "outputs": [
        {
          "output_type": "execute_result",
          "data": {
            "text/plain": [
              "Fire Rate                  3.236639\n",
              "Mag Size                  11.564218\n",
              "Reload Time                1.184945\n",
              "Multiplier                 0.215540\n",
              "Damage (Body)             28.996986\n",
              "Damage (Head)             70.620032\n",
              "DPS (Body)                56.885463\n",
              "DPS (Head)               118.541914\n",
              "Shots/Kill Avg (Body)      2.043694\n",
              "Shots/Kill Avg (Head)      0.958734\n",
              "dtype: float64"
            ]
          },
          "metadata": {
            "tags": []
          },
          "execution_count": 28
        }
      ]
    },
    {
      "metadata": {
        "id": "CNDEdurLCoem",
        "colab_type": "text"
      },
      "cell_type": "markdown",
      "source": [
        "**Квартилі**"
      ]
    },
    {
      "metadata": {
        "id": "67u3IifZq0xT",
        "colab_type": "code",
        "outputId": "6fe6e98d-e1fa-460c-ea8c-df806f8aba48",
        "colab": {
          "base_uri": "https://localhost:8080/",
          "height": 364
        }
      },
      "cell_type": "code",
      "source": [
        "df.boxplot(column=['DPS (Head)'])"
      ],
      "execution_count": 0,
      "outputs": [
        {
          "output_type": "execute_result",
          "data": {
            "text/plain": [
              "<matplotlib.axes._subplots.AxesSubplot at 0x7f05cf757d68>"
            ]
          },
          "metadata": {
            "tags": []
          },
          "execution_count": 29
        },
        {
          "output_type": "display_data",
          "data": {
            "image/png": "[encoded data removed]",
            "text/plain": [
              "<matplotlib.figure.Figure at 0x7f05cf757860>"
            ]
          },
          "metadata": {
            "tags": []
          }
        }
      ]
    },
    {
      "metadata": {
        "id": "ugbGUnwPo0jM",
        "colab_type": "text"
      },
      "cell_type": "markdown",
      "source": [
        "## Контрольні запитання"
      ]
    },
    {
      "metadata": {
        "id": "mZ6n6Fzl_Zsq",
        "colab_type": "text"
      },
      "cell_type": "markdown",
      "source": [
        "1. Що таке вибірка? Яку вибірку можна назвати репрезентативною ?\n",
        "\n",
        "\n",
        "* Вибірка - частина нашої ГС (потрібна для того, щоб провести експерименти лише над певною частиною записів. І потім по можливості узагальнити їх на всю ГС). Вкрай важливо досягти того, щоб вибірка була репрезентативною. Тобто: щоб вибірка була моделлю ГС і відображала її властивості."
      ]
    },
    {
      "metadata": {
        "id": "ITgd_K67_dMv",
        "colab_type": "text"
      },
      "cell_type": "markdown",
      "source": [
        "2. В чому ключова відмінність між стратифікованою та груповою виборками?\n",
        "\n",
        "\n",
        "* Стратифікована вибірка - декілька різних груп, але не обов'язково схожі між собою.\n",
        "\n",
        "\n",
        "* Групова вибірка - декілька різних груп, але обов'язково досить схожі між собою.\n",
        "\n",
        "\n"
      ]
    },
    {
      "metadata": {
        "id": "_5_RlBb0_iIC",
        "colab_type": "text"
      },
      "cell_type": "markdown",
      "source": [
        "3. В чому полягає критичний недолік розмаху? І чому на вашу думку це є саме критичним недоліком?\n",
        "\n",
        "\n",
        "* Критичний недолік розмаху полягає в тому, що він використовує лише 2 крайніх значення.\n",
        "\n",
        "* І будь-які зміни цих значень будуть вкрай відчутно відображатись на результаті. Приклад із ЗП.\n",
        "\n",
        "* В цей же час стає зрозуміло, що варіативність показника не змінилась настільки, наскільки змінився розмах."
      ]
    },
    {
      "metadata": {
        "id": "xJPlV-IX_ntf",
        "colab_type": "text"
      },
      "cell_type": "markdown",
      "source": [
        "4. В чому полягає різниця між дисперсією та середнім квадратичним відхиленням?\n",
        "\n",
        "\n",
        "* Дисперсія (variance) - середній квадрат відхилень індивідуальних значень показника від його середнього значення.\n",
        "\n",
        "* std (standard deviation) - реальний показник середнього квадратичного відхилення - наскільки в середньому кожен елемент нашої вибірки відхиляється від середнього значення по даній вибірці."
      ]
    },
    {
      "metadata": {
        "id": "cN1s_BRn_rSg",
        "colab_type": "text"
      },
      "cell_type": "markdown",
      "source": [
        "5. За що відповідають квантилі розподілу? Яким чином їх можна найкраще представити?\n",
        "\n",
        "\n",
        "* Квартилі - 3 точки (значення показника), які ділять впорядковану множину даних на чотири рівних частини."
      ]
    },
    {
      "metadata": {
        "id": "VcqlgX7N_6sH",
        "colab_type": "text"
      },
      "cell_type": "markdown",
      "source": [
        "6. Що таке міжквартильний розмах ?\n",
        "\n",
        "\n",
        "* Міжквартильний розмах - різниця між верхньою межею і нижньою межею. Чим більше значення має цей розмах - тим більша варіативність показника."
      ]
    },
    {
      "metadata": {
        "id": "-J2SEaYhoGDv",
        "colab_type": "text"
      },
      "cell_type": "markdown",
      "source": [
        "# Частина 3"
      ]
    },
    {
      "metadata": {
        "id": "mBSoekHQ2V6T",
        "colab_type": "text"
      },
      "cell_type": "markdown",
      "source": [
        "## z-стандартизація"
      ]
    },
    {
      "metadata": {
        "id": "7KZ82RgK3nLl",
        "colab_type": "code",
        "outputId": "2c4041b7-ea14-4a89-abea-1a0c8748355b",
        "colab": {
          "base_uri": "https://localhost:8080/",
          "height": 306
        }
      },
      "cell_type": "code",
      "source": [
        "cols = ['DPS (Body)', 'Fire Rate']\n",
        "for col in cols:\n",
        "    col_zscore = col + '_zsc'\n",
        "    df[col_zscore] = (df[col] - df[col].mean())/df[col].std(ddof=0)\n",
        "df.head()"
      ],
      "execution_count": 0,
      "outputs": [
        {
          "output_type": "execute_result",
          "data": {
            "text/html": [
              "<div>\n",
              "<style scoped>\n",
              "    .dataframe tbody tr th:only-of-type {\n",
              "        vertical-align: middle;\n",
              "    }\n",
              "\n",
              "    .dataframe tbody tr th {\n",
              "        vertical-align: top;\n",
              "    }\n",
              "\n",
              "    .dataframe thead th {\n",
              "        text-align: right;\n",
              "    }\n",
              "</style>\n",
              "<table border=\"1\" class=\"dataframe\">\n",
              "  <thead>\n",
              "    <tr style=\"text-align: right;\">\n",
              "      <th></th>\n",
              "      <th>Name</th>\n",
              "      <th>Rarity</th>\n",
              "      <th>Fire Rate</th>\n",
              "      <th>Mag Size</th>\n",
              "      <th>Reload Time</th>\n",
              "      <th>Multiplier</th>\n",
              "      <th>Damage (Body)</th>\n",
              "      <th>Damage (Head)</th>\n",
              "      <th>DPS (Body)</th>\n",
              "      <th>DPS (Head)</th>\n",
              "      <th>Shots/Kill Avg (Body)</th>\n",
              "      <th>Shots/Kill Avg (Head)</th>\n",
              "      <th>DPS (Body)_zsc</th>\n",
              "      <th>DPS (Head)_zsc</th>\n",
              "      <th>Fire Rate_zsc</th>\n",
              "    </tr>\n",
              "  </thead>\n",
              "  <tbody>\n",
              "    <tr>\n",
              "      <th>1</th>\n",
              "      <td>Assault Rifle (M4)</td>\n",
              "      <td>Common</td>\n",
              "      <td>5.5</td>\n",
              "      <td>30</td>\n",
              "      <td>2.3</td>\n",
              "      <td>2.0</td>\n",
              "      <td>30</td>\n",
              "      <td>60.0</td>\n",
              "      <td>165.0</td>\n",
              "      <td>330.0</td>\n",
              "      <td>4.75</td>\n",
              "      <td>2.75</td>\n",
              "      <td>0.958266</td>\n",
              "      <td>0.826712</td>\n",
              "      <td>0.548578</td>\n",
              "    </tr>\n",
              "    <tr>\n",
              "      <th>2</th>\n",
              "      <td>Assault Rifle (M4)</td>\n",
              "      <td>Uncommon</td>\n",
              "      <td>5.5</td>\n",
              "      <td>30</td>\n",
              "      <td>2.2</td>\n",
              "      <td>2.0</td>\n",
              "      <td>31</td>\n",
              "      <td>62.0</td>\n",
              "      <td>170.5</td>\n",
              "      <td>341.0</td>\n",
              "      <td>4.75</td>\n",
              "      <td>2.75</td>\n",
              "      <td>1.056124</td>\n",
              "      <td>0.920631</td>\n",
              "      <td>0.548578</td>\n",
              "    </tr>\n",
              "    <tr>\n",
              "      <th>3</th>\n",
              "      <td>Assault Rifle (M4)</td>\n",
              "      <td>Rare</td>\n",
              "      <td>5.5</td>\n",
              "      <td>30</td>\n",
              "      <td>2.2</td>\n",
              "      <td>2.0</td>\n",
              "      <td>33</td>\n",
              "      <td>66.0</td>\n",
              "      <td>181.5</td>\n",
              "      <td>363.0</td>\n",
              "      <td>4.75</td>\n",
              "      <td>2.75</td>\n",
              "      <td>1.251839</td>\n",
              "      <td>1.108469</td>\n",
              "      <td>0.548578</td>\n",
              "    </tr>\n",
              "    <tr>\n",
              "      <th>4</th>\n",
              "      <td>Assault Rifle (SCAR)</td>\n",
              "      <td>Epic</td>\n",
              "      <td>5.5</td>\n",
              "      <td>30</td>\n",
              "      <td>2.2</td>\n",
              "      <td>2.0</td>\n",
              "      <td>35</td>\n",
              "      <td>70.0</td>\n",
              "      <td>192.5</td>\n",
              "      <td>385.0</td>\n",
              "      <td>4.25</td>\n",
              "      <td>2.50</td>\n",
              "      <td>1.447554</td>\n",
              "      <td>1.296307</td>\n",
              "      <td>0.548578</td>\n",
              "    </tr>\n",
              "    <tr>\n",
              "      <th>5</th>\n",
              "      <td>Assault Rifle (SCAR)</td>\n",
              "      <td>Legendary</td>\n",
              "      <td>5.5</td>\n",
              "      <td>30</td>\n",
              "      <td>2.1</td>\n",
              "      <td>2.0</td>\n",
              "      <td>36</td>\n",
              "      <td>72.0</td>\n",
              "      <td>198.0</td>\n",
              "      <td>396.0</td>\n",
              "      <td>4.25</td>\n",
              "      <td>2.50</td>\n",
              "      <td>1.545411</td>\n",
              "      <td>1.390226</td>\n",
              "      <td>0.548578</td>\n",
              "    </tr>\n",
              "  </tbody>\n",
              "</table>\n",
              "</div>"
            ],
            "text/plain": [
              "                   Name     Rarity  Fire Rate  Mag Size  Reload Time  \\\n",
              "1    Assault Rifle (M4)     Common        5.5        30          2.3   \n",
              "2    Assault Rifle (M4)   Uncommon        5.5        30          2.2   \n",
              "3    Assault Rifle (M4)       Rare        5.5        30          2.2   \n",
              "4  Assault Rifle (SCAR)       Epic        5.5        30          2.2   \n",
              "5  Assault Rifle (SCAR)  Legendary        5.5        30          2.1   \n",
              "\n",
              "   Multiplier  Damage (Body)  Damage (Head)  DPS (Body)  DPS (Head)  \\\n",
              "1         2.0             30           60.0       165.0       330.0   \n",
              "2         2.0             31           62.0       170.5       341.0   \n",
              "3         2.0             33           66.0       181.5       363.0   \n",
              "4         2.0             35           70.0       192.5       385.0   \n",
              "5         2.0             36           72.0       198.0       396.0   \n",
              "\n",
              "   Shots/Kill Avg (Body)  Shots/Kill Avg (Head)  DPS (Body)_zsc  \\\n",
              "1                   4.75                   2.75        0.958266   \n",
              "2                   4.75                   2.75        1.056124   \n",
              "3                   4.75                   2.75        1.251839   \n",
              "4                   4.25                   2.50        1.447554   \n",
              "5                   4.25                   2.50        1.545411   \n",
              "\n",
              "   DPS (Head)_zsc  Fire Rate_zsc  \n",
              "1        0.826712       0.548578  \n",
              "2        0.920631       0.548578  \n",
              "3        1.108469       0.548578  \n",
              "4        1.296307       0.548578  \n",
              "5        1.390226       0.548578  "
            ]
          },
          "metadata": {
            "tags": []
          },
          "execution_count": 31
        }
      ]
    },
    {
      "metadata": {
        "id": "xkkyuqXV5mfm",
        "colab_type": "code",
        "outputId": "81da0251-c82d-4c89-9a67-b4467390af93",
        "colab": {
          "base_uri": "https://localhost:8080/",
          "height": 362
        }
      },
      "cell_type": "code",
      "source": [
        "hist = df.hist(column=['DPS (Head)','DPS (Head)_zsc'], bins=30) "
      ],
      "execution_count": 0,
      "outputs": [
        {
          "output_type": "display_data",
          "data": {
            "image/png": "[encoded data removed]",
            "text/plain": [
              "<matplotlib.figure.Figure at 0x7f05ccbcda20>"
            ]
          },
          "metadata": {
            "tags": []
          }
        }
      ]
    },
    {
      "metadata": {
        "id": "Eqy0gNNQ6qDX",
        "colab_type": "code",
        "outputId": "f5a156fc-d599-46b8-eaed-b171f5e47fc9",
        "colab": {
          "base_uri": "https://localhost:8080/",
          "height": 362
        }
      },
      "cell_type": "code",
      "source": [
        "hist = df.hist(column=['Fire Rate','Fire Rate_zsc'], bins=30)"
      ],
      "execution_count": 0,
      "outputs": [
        {
          "output_type": "display_data",
          "data": {
            "image/png": "[encoded data removed]",
            "text/plain": [
              "<matplotlib.figure.Figure at 0x7f05cca7bb38>"
            ]
          },
          "metadata": {
            "tags": []
          }
        }
      ]
    },
    {
      "metadata": {
        "id": "ZYiwEGig7Vi1",
        "colab_type": "text"
      },
      "cell_type": "markdown",
      "source": [
        "### Правило 2х-3х Сігм"
      ]
    },
    {
      "metadata": {
        "id": "s2_Yi4127ijd",
        "colab_type": "code",
        "outputId": "39e48128-dfcb-455a-9835-f77cd27b6c39",
        "colab": {
          "base_uri": "https://localhost:8080/",
          "height": 68
        }
      },
      "cell_type": "code",
      "source": [
        "def getSigmaRule(col, num):\n",
        "  exp_ratio = None\n",
        "  if num == 1:\n",
        "    exp_ratio = 0.68\n",
        "  elif num == 2:\n",
        "    exp_ratio = 0.95\n",
        "  elif num == 3:\n",
        "    exp_ratio = 0.999999\n",
        "  else:\n",
        "    return print('invalid data')\n",
        "  \n",
        "  lower_bound = df[col].mean()-df[col].std()*num\n",
        "  uppper_bound = df[col].mean()+df[col].std()*num\n",
        "  \n",
        "  valid = df[(df[col] > lower_bound)&(df[col] < uppper_bound)]\n",
        "  ratio = len(valid.index)/len(df.index)\n",
        "  print('We expexted '+str(exp_ratio)+' ratio and got this one: ' + str(ratio))\n",
        "  \n",
        "getSigmaRule('Fire Rate', 1)\n",
        "getSigmaRule('DPS (Body)', 2)\n",
        "getSigmaRule('DPS (Head)', 3)"
      ],
      "execution_count": 0,
      "outputs": [
        {
          "output_type": "stream",
          "text": [
            "We expexted 0.68 ratio and got this one: 0.7857142857142857\n",
            "We expexted 0.95 ratio and got this one: 1.0\n",
            "We expexted 0.999999 ratio and got this one: 1.0\n"
          ],
          "name": "stdout"
        }
      ]
    },
    {
      "metadata": {
        "id": "jYlnxceM2gAw",
        "colab_type": "text"
      },
      "cell_type": "markdown",
      "source": [
        "## Довірчі інтвервали для середнього значення (ДІ)"
      ]
    },
    {
      "metadata": {
        "id": "Z5yeCfhk8-Sm",
        "colab_type": "code",
        "outputId": "e1fbb36b-35e4-4276-98de-1b1ff9c88348",
        "colab": {
          "base_uri": "https://localhost:8080/",
          "height": 51
        }
      },
      "cell_type": "code",
      "source": [
        "def get_CI(col, percentage):\n",
        "  coef = None\n",
        "  if percentage == 95:\n",
        "    coef = 1.98\n",
        "  elif percentage == 99:\n",
        "    coef = 2.58\n",
        "  else:\n",
        "    return print('invalid data')\n",
        "  se = df[col].std()/math.sqrt(len(df[col].index))\n",
        "  CI_lower = df[col].mean() - se*coef\n",
        "  CI_upper = df[col].mean() + se*coef\n",
        "  print (str(percentage)+ '% confidence interval for '+col +' is '+ str(CI_lower) + ' - ' + str(CI_upper) )\n",
        "  \n",
        "  \n",
        "get_CI('DPS (Body)', 95)\n",
        "get_CI('Fire Rate', 99)"
      ],
      "execution_count": 0,
      "outputs": [
        {
          "output_type": "stream",
          "text": [
            "95% confidence interval for DPS (Body) is 93.7617460172459 - 128.5211111256112\n",
            "99% confidence interval for Fire Rate is 2.457199571842298 - 5.034228999586273\n"
          ],
          "name": "stdout"
        }
      ]
    },
    {
      "metadata": {
        "id": "hr3-bk569TYs",
        "colab_type": "text"
      },
      "cell_type": "markdown",
      "source": [
        "## Контрольні запитання"
      ]
    },
    {
      "metadata": {
        "id": "-TLsmXm6AS_D",
        "colab_type": "text"
      },
      "cell_type": "markdown",
      "source": [
        "1. Що ви знаєте про нормальний розподіл? Які його характеристики?\n",
        "\n",
        "> — (розподіл Ґауса) — розподіл ймовірностей випадкової величини, що характеризується густиною ймовірності:\n",
        "\n",
        "* Центральна гранична теорема стверджує, що нормальний розподіл виникає тоді, коли дана випадкова величина являє собою суму великого числа незалежних випадкових величин, кожна з яких відіграє незначну роль в утворенні всієї суми. Наприклад, відстань від влучення снаряду гармати до цілі при великій кількості пострілів характеризується саме нормальним розподілом."
      ]
    },
    {
      "metadata": {
        "id": "XONNne08AVQx",
        "colab_type": "text"
      },
      "cell_type": "markdown",
      "source": [
        "2. Що таке z-стандартизація? Навіщо вона потрібна? В чому вона вимірюється? І що, скажімо, означає, якщо z-значення = 1.5\n",
        "\n",
        "> — (нормалізація даних) - перетворення отриманих даних, у стандартну Z-шкалу (Z-scores) із такими характеристиками:\n",
        "\n",
        "\n",
        "* середнє значення ( Mz ) відтепер буде = 0;\n",
        "* дисперсія і стандартне відхилення (Dz) = 1."
      ]
    },
    {
      "metadata": {
        "id": "9-20lQeAAeYg",
        "colab_type": "text"
      },
      "cell_type": "markdown",
      "source": [
        "3. Для чого потрібна гістограма?\n",
        "\n",
        "\n",
        "> Гістогра́ма (від грец. histos, тут стовп + gramma — межа, буква, написання) — спосіб графічного представлення табличних даних. Являє собою діаграму, що складається з прямокутників без розривів між ними.\n",
        "\n"
      ]
    },
    {
      "metadata": {
        "id": "-j9SM0g-AiP2",
        "colab_type": "text"
      },
      "cell_type": "markdown",
      "source": [
        "4. В чому суть правила 2-3 Сігм?\n",
        "\n",
        "\n",
        "*   Mx±σ≈68 % спостережень;\n",
        "*   Mx±2σ≈95 % спостережень;\n",
        "*   Mx±3σ≈100 % спостережень;\n",
        "\n"
      ]
    },
    {
      "metadata": {
        "id": "oJO-XvajAmIR",
        "colab_type": "text"
      },
      "cell_type": "markdown",
      "source": [
        "5. В чому основна суть ЦГТ?\n",
        "\n",
        "\n",
        "* Центральна гранична теорема — теорема теорії ймовірностей про збіжність розподілу суми незалежних однаково розподілених випадкових величин до нормального розподілу. Ця теорема підкреслює особливість нормального розподілу в теорії ймовірностей."
      ]
    },
    {
      "metadata": {
        "id": "d46YBpIhApZI",
        "colab_type": "text"
      },
      "cell_type": "markdown",
      "source": [
        "6. В чому можуть допомогти довірчі інтервали для середнього? Яке їх призначення?\n",
        "\n",
        "\n",
        "* Варто зауважити, що ціль статистики у тому, щоб робити висновки щодо генеральної сукупності (ГС), маючи на руках лише вибірку(и) з неї.\n",
        "Нерідко нас може цікавити, чому = середнє значення у всій ГС.\n",
        "\n",
        "\n"
      ]
    },
    {
      "metadata": {
        "id": "4PlGB1MdAq-7",
        "colab_type": "text"
      },
      "cell_type": "markdown",
      "source": [
        "7. Наскільки необхідно змінити межу нашого довірчого інтервалу, щоб збільшити ймовірність включення середнього з генеральної сукупності у нього з 95% до 99%?\n",
        "\n",
        "\n",
        "*   На ± 0.6*se\n",
        "\n",
        "\n"
      ]
    },
    {
      "metadata": {
        "id": "srX3_R-dhKxO",
        "colab_type": "text"
      },
      "cell_type": "markdown",
      "source": [
        "* Стандартна похибка середнього в математичній статистиці — величина, що характеризує стандартне відхилення вибіркового середнього, розраховане по вибірці розміром n із генеральної сукупності.\n",
        "\n",
        "\n",
        "\n",
        "> Величина стандартної похибки залежить від дисперсії генеральної сукупності та об'єму вибірки.\n",
        "\n",
        "\n",
        "\n"
      ]
    },
    {
      "metadata": {
        "id": "U7w6f7tT-4zi",
        "colab_type": "text"
      },
      "cell_type": "markdown",
      "source": [
        "#Графіки"
      ]
    },
    {
      "metadata": {
        "id": "MgDR4SRQ_hpp",
        "colab_type": "text"
      },
      "cell_type": "markdown",
      "source": [
        "## Line Plot"
      ]
    },
    {
      "metadata": {
        "id": "Ap-9EzilCs5X",
        "colab_type": "text"
      },
      "cell_type": "markdown",
      "source": [
        "**Даний графік показує, що з збільшенням кількості патронів, пошкодження гравцю стає меншим.**"
      ]
    },
    {
      "metadata": {
        "colab_type": "code",
        "outputId": "7fa091e6-7a4e-480b-a0dd-45b6296cad6e",
        "id": "zj3jp4EmRNYQ",
        "colab": {
          "base_uri": "https://localhost:8080/",
          "height": 362
        }
      },
      "cell_type": "code",
      "source": [
        "import numpy as np\n",
        "import matplotlib.pyplot as plt\n",
        "import seaborn as sns\n",
        "\n",
        "df.sort_values(['Mag Size'], ascending=True, inplace=True)\n",
        "plt.plot( 'Mag Size', 'Damage (Head)', data=df, color='lightgreen')\n",
        "plt.xlabel(\"Magazin Size\")\n",
        "plt.ylabel(\"Damage (Head)\")\n",
        "plt.show()"
      ],
      "execution_count": 0,
      "outputs": [
        {
          "output_type": "display_data",
          "data": {
            "image/png": "[encoded data removed]",
            "text/plain": [
              "<matplotlib.figure.Figure at 0x7f1ba9a98710>"
            ]
          },
          "metadata": {
            "tags": []
          }
        }
      ]
    },
    {
      "metadata": {
        "id": "powJe40l_Fkt",
        "colab_type": "text"
      },
      "cell_type": "markdown",
      "source": [
        "## Pie Plot"
      ]
    },
    {
      "metadata": {
        "id": "MG8XTTKZR1Au",
        "colab_type": "code",
        "outputId": "412bf308-5e88-4607-9bbf-dd097ca25508",
        "colab": {
          "base_uri": "https://localhost:8080/",
          "height": 345
        }
      },
      "cell_type": "code",
      "source": [
        "import matplotlib.pyplot as plt\n",
        "\n",
        "labels = 'Damage (Head) >= 200', 'Damage (Head) [100,200)', 'Damage (Head) < 100'\n",
        "sections = [len(df[df['DPS (Head)'] < 100].index),\n",
        "            len(df[(df['DPS (Head)'] >= 100) & (df['DPS (Head)'] < 200)]),\n",
        "            len(df[df['DPS (Head)'] >= 200])]\n",
        "colors = ['#396890', '#DFBB4E', '#DF794E']\n",
        "\n",
        "plt.pie(sections, labels=labels, colors=colors,\n",
        "        startangle=90,\n",
        "        autopct = '%1.2f%%')\n",
        "\n",
        "plt.axis('equal')\n",
        "plt.title('Primary attribute ratio')\n",
        "plt.show()"
      ],
      "execution_count": 0,
      "outputs": [
        {
          "output_type": "display_data",
          "data": {
            "image/png": "[encoded data removed]",
            "text/plain": [
              "<matplotlib.figure.Figure at 0x7f05cc909860>"
            ]
          },
          "metadata": {
            "tags": []
          }
        }
      ]
    },
    {
      "metadata": {
        "id": "d-3yNgHG-YTp",
        "colab_type": "text"
      },
      "cell_type": "markdown",
      "source": [
        "## Histogram Plot"
      ]
    },
    {
      "metadata": {
        "id": "5B9YjKKfEjn7",
        "colab_type": "text"
      },
      "cell_type": "markdown",
      "source": [
        "**DPS (Head) - кількість пошкоджень за одну секунду в голову.**"
      ]
    },
    {
      "metadata": {
        "id": "p71iztihtepD",
        "colab_type": "code",
        "outputId": "5eac662b-0657-4ea5-8ffd-5f066ea8eba5",
        "colab": {
          "base_uri": "https://localhost:8080/",
          "height": 361
        }
      },
      "cell_type": "code",
      "source": [
        "sns.distplot( df[\"DPS (Head)\"], bins=40 )\n",
        "sns.plt.show()"
      ],
      "execution_count": 0,
      "outputs": [
        {
          "output_type": "display_data",
          "data": {
            "image/png": "[encoded data removed]",
            "text/plain": [
              "<matplotlib.figure.Figure at 0x7feb7f312cf8>"
            ]
          },
          "metadata": {
            "tags": []
          }
        }
      ]
    },
    {
      "metadata": {
        "id": "vzI5zdp--07-",
        "colab_type": "text"
      },
      "cell_type": "markdown",
      "source": [
        "##Bar Plot"
      ]
    },
    {
      "metadata": {
        "id": "AzuDRzj4E5qK",
        "colab_type": "text"
      },
      "cell_type": "markdown",
      "source": [
        "**Даний графік показує середній рівень пошкодженнь кожного рівня якості зброї.**"
      ]
    },
    {
      "metadata": {
        "id": "wTsHObttTzVS",
        "colab_type": "code",
        "outputId": "6f795877-91d9-482e-d7df-9220f5cea00e",
        "colab": {
          "base_uri": "https://localhost:8080/",
          "height": 362
        }
      },
      "cell_type": "code",
      "source": [
        "import numpy as np\n",
        "import matplotlib.pyplot as plt\n",
        "import seaborn as sns\n",
        "\n",
        "grouped_damage = df.groupby('Rarity')['Damage (Body)'].mean();\n",
        "height = []\n",
        "for rarity in grouped_damage:\n",
        "   height.append(rarity)\n",
        "                \n",
        "grouped_damage.index.values\n",
        "bars = []\n",
        "\n",
        "for name in grouped_damage.index.values:\n",
        "  bars.append(name)\n",
        "\n",
        "y_pos = np.arange(len(bars))\n",
        "\n",
        "# Create bars\n",
        "plt.bar(y_pos, height)\n",
        "plt.title(\"Average damage (body) for all weapons rarity\")\n",
        " \n",
        "# Create names on the x-axis\n",
        "plt.xticks(y_pos, bars)\n",
        " \n",
        "# Show graphic\n",
        "plt.show()"
      ],
      "execution_count": 0,
      "outputs": [
        {
          "output_type": "display_data",
          "data": {
            "image/png": "[encoded data removed]",
            "text/plain": [
              "<matplotlib.figure.Figure at 0x7f05cc3fb470>"
            ]
          },
          "metadata": {
            "tags": []
          }
        }
      ]
    },
    {
      "metadata": {
        "id": "w2nHkdqx-h-5",
        "colab_type": "text"
      },
      "cell_type": "markdown",
      "source": [
        "## Donut Plot"
      ]
    },
    {
      "metadata": {
        "id": "Bps6kURWvnQG",
        "colab_type": "code",
        "outputId": "61815d2f-057e-431f-ee08-0752483410c0",
        "colab": {
          "base_uri": "https://localhost:8080/",
          "height": 345
        }
      },
      "cell_type": "code",
      "source": [
        "labels = 'DPS (Body) < 50', 'DPS (Body) [50,100)', 'DPS (Body) >= 100'\n",
        "sections = [len(df[df['DPS (Body)'] < 50].index),\n",
        "            len(df[(df['DPS (Body)'] >= 50) & (df['DPS (Body)'] < 100)]),\n",
        "            len(df[df['DPS (Body)'] >= 100])]\n",
        "colors = ['#9C86E3', '#FFFF89', '#FFD889']\n",
        "\n",
        "plt.pie(sections, labels=labels, colors=colors,\n",
        "        startangle=90,\n",
        "        autopct = '%1.2f%%')\n",
        "\n",
        "plt.axis('equal')\n",
        "plt.title('Faction ratio')\n",
        "\n",
        "my_circle=plt.Circle( (0,0), 0.55, color='white')\n",
        "p=plt.gcf()\n",
        "p.gca().add_artist(my_circle)\n",
        "\n",
        "\n",
        "plt.show()"
      ],
      "execution_count": 0,
      "outputs": [
        {
          "output_type": "display_data",
          "data": {
            "image/png": "[encoded data removed]",
            "text/plain": [
              "<matplotlib.figure.Figure at 0x7feb7f46fb38>"
            ]
          },
          "metadata": {
            "tags": []
          }
        }
      ]
    },
    {
      "metadata": {
        "id": "TYJkJEjz99yS",
        "colab_type": "text"
      },
      "cell_type": "markdown",
      "source": [
        "## Box Plot"
      ]
    },
    {
      "metadata": {
        "id": "cpslxp7A0SG8",
        "colab_type": "code",
        "outputId": "57cd158a-ec0f-4adb-f27f-1d47c2a7fdc2",
        "colab": {
          "base_uri": "https://localhost:8080/",
          "height": 366
        }
      },
      "cell_type": "code",
      "source": [
        "sns.boxplot(y = df['Fire Rate'])\n",
        "sns.plt.show()"
      ],
      "execution_count": 0,
      "outputs": [
        {
          "output_type": "stream",
          "text": [
            "/usr/local/lib/python3.6/dist-packages/seaborn/categorical.py:454: FutureWarning: remove_na is deprecated and is a private function. Do not use.\n",
            "  box_data = remove_na(group_data)\n"
          ],
          "name": "stderr"
        },
        {
          "output_type": "display_data",
          "data": {
            "image/png": "[encoded data removed]",
            "text/plain": [
              "<matplotlib.figure.Figure at 0x7feb7f1ae860>"
            ]
          },
          "metadata": {
            "tags": []
          }
        }
      ]
    },
    {
      "metadata": {
        "id": "b0WWS4Qz-Fkw",
        "colab_type": "text"
      },
      "cell_type": "markdown",
      "source": [
        "## Area Plot"
      ]
    },
    {
      "metadata": {
        "id": "eNatq3u-0lsa",
        "colab_type": "code",
        "outputId": "3d909c5e-058a-40a6-9c6d-3b363e7acd6a",
        "colab": {
          "base_uri": "https://localhost:8080/",
          "height": 393
        }
      },
      "cell_type": "code",
      "source": [
        "plt.fill_between( 'Mag Size', 'Shots/Kill Avg (Body)', data=df, color=\"skyblue\", alpha=0.3)\n",
        "plt.plot('Mag Size', 'Shots/Kill Avg (Body)', data=df, color=\"skyblue\")\n",
        " \n",
        "plt.title(\"An area chart\", loc=\"left\")\n",
        "plt.xlabel(\"Magazin Size\")\n",
        "plt.ylabel(\"Shots/Kill Avg (Body)\")"
      ],
      "execution_count": 0,
      "outputs": [
        {
          "output_type": "execute_result",
          "data": {
            "text/plain": [
              "Text(0,0.5,'Shots/Kill Avg (Body)')"
            ]
          },
          "metadata": {
            "tags": []
          },
          "execution_count": 18
        },
        {
          "output_type": "display_data",
          "data": {
            "image/png": "[encoded data removed]",
            "text/plain": [
              "<matplotlib.figure.Figure at 0x7f1936257eb8>"
            ]
          },
          "metadata": {
            "tags": []
          }
        }
      ]
    },
    {
      "metadata": {
        "id": "YP4t4sX2-LrG",
        "colab_type": "text"
      },
      "cell_type": "markdown",
      "source": [
        "## KDE Plot"
      ]
    },
    {
      "metadata": {
        "id": "hKWmzGq52RmY",
        "colab_type": "code",
        "outputId": "64462b74-709b-4d45-fece-4e81984d53a5",
        "colab": {
          "base_uri": "https://localhost:8080/",
          "height": 347
        }
      },
      "cell_type": "code",
      "source": [
        "sns.kdeplot(df[\"Damage (Body)\"], shade=True, color = 'b')\n",
        "sns.kdeplot(df[\"Damage (Head)\"], shade=True, color = '#666666')\n",
        "sns.kdeplot(df[\"DPS (Body)\"], shade=True, color = 'g')\n",
        "sns.kdeplot(df[\"DPS (Head)\"], shade=True, color = 'r')\n",
        "\n",
        "sns.plt.show()"
      ],
      "execution_count": 0,
      "outputs": [
        {
          "output_type": "display_data",
          "data": {
            "image/png": "[encoded data removed]",
            "text/plain": [
              "<matplotlib.figure.Figure at 0x7feb7f0c6a90>"
            ]
          },
          "metadata": {
            "tags": []
          }
        }
      ]
    },
    {
      "metadata": {
        "id": "uN0xjPr5-_A2",
        "colab_type": "text"
      },
      "cell_type": "markdown",
      "source": [
        "## Lollipop Plot"
      ]
    },
    {
      "metadata": {
        "id": "Ce4TmYvs4hIj",
        "colab_type": "code",
        "outputId": "a687b65b-53d5-439f-e566-9b9922bf66a2",
        "colab": {
          "base_uri": "https://localhost:8080/",
          "height": 361
        }
      },
      "cell_type": "code",
      "source": [
        "x = df['Damage (Body)']\n",
        "y = df['Damage (Head)']\n",
        "\n",
        "plt.stem(x, y)\n",
        "plt.xlabel(\"Damage (Body)\")\n",
        "plt.ylabel(\"Damage (Head)\")\n",
        "plt.show()"
      ],
      "execution_count": 0,
      "outputs": [
        {
          "output_type": "display_data",
          "data": {
            "image/png": "[encoded data removed]",
            "text/plain": [
              "<matplotlib.figure.Figure at 0x7f1938c3f908>"
            ]
          },
          "metadata": {
            "tags": []
          }
        }
      ]
    },
    {
      "metadata": {
        "id": "lEcM2eW39wnD",
        "colab_type": "text"
      },
      "cell_type": "markdown",
      "source": [
        "## Regression Plot"
      ]
    },
    {
      "metadata": {
        "id": "rfRRkE918KHy",
        "colab_type": "code",
        "outputId": "5055844e-ce91-4ddf-bac8-d4fc688e0213",
        "colab": {
          "base_uri": "https://localhost:8080/",
          "height": 361
        }
      },
      "cell_type": "code",
      "source": [
        "sns.regplot(x=df[\"Fire Rate\"], y=df[\"Shots/Kill Avg (Head)\"])\n",
        "sns.plt.show()"
      ],
      "execution_count": 0,
      "outputs": [
        {
          "output_type": "display_data",
          "data": {
            "image/png": "[encoded data removed]",
            "text/plain": [
              "<matplotlib.figure.Figure at 0x7feb7e1605c0>"
            ]
          },
          "metadata": {
            "tags": []
          }
        }
      ]
    },
    {
      "metadata": {
        "id": "VdYkqT4MNRQG",
        "colab_type": "text"
      },
      "cell_type": "markdown",
      "source": [
        "# Кореляція та регресія"
      ]
    },
    {
      "metadata": {
        "id": "2y4uxLpPwFMT",
        "colab_type": "text"
      },
      "cell_type": "markdown",
      "source": [
        "##Розрахунок коефіцієнта кориляції Пірсона\n"
      ]
    },
    {
      "metadata": {
        "id": "xysxfA7byre8",
        "colab_type": "code",
        "outputId": "b43ccee8-4ad7-40b2-a9b7-92b37ca179ed",
        "colab": {
          "base_uri": "https://localhost:8080/",
          "height": 515
        }
      },
      "cell_type": "code",
      "source": [
        "import numpy as np\n",
        "from scipy import stats\n",
        "from sklearn import datasets, linear_model\n",
        "\n",
        "plt.scatter(x=df[\"Damage (Head)\"], y=df[\"Damage (Body)\"], s=20, c='blue', alpha=1)\n",
        "plt.xlabel(\"Пошкодження в голову\")\n",
        "plt.ylabel(\"Пошкодження в тіло\")\n",
        "plt.show()\n",
        "\n",
        "pearson_coef, p_value = stats.pearsonr(df[\"Damage (Head)\"], df[\"Damage (Body)\"])\n",
        "print(\"Коєфіцієнт кореляції Пірсона: \", pearson_coef) \n",
        "print(\"Р-значення = %.20f\" % p_value)\n",
        "print(\"\\n-------------------------------------------------------------------\\n\")\n",
        "if p_value <= 0.05: \n",
        "  print(\"Р-значення <= 0.05, то кореляція мiж пошкодженнями в голову та тіло != 0\")\n",
        "else:\n",
        "  print(\"Р-значення > 0.05, то кореляція мiж пошкодженнями в голову та тіло = 0\")\n",
        "print(\"\\n-------------------------------------------------------------------\\n\")"
      ],
      "execution_count": 0,
      "outputs": [
        {
          "output_type": "display_data",
          "data": {
            "image/png": "[encoded data removed]",
            "text/plain": [
              "<matplotlib.figure.Figure at 0x7f1ba71c4470>"
            ]
          },
          "metadata": {
            "tags": []
          }
        },
        {
          "output_type": "stream",
          "text": [
            "Коєфіцієнт кореляції Пірсона:  0.9822165152426934\n",
            "Р-значення = 0.00000000000000000000\n",
            "\n",
            "-------------------------------------------------------------------\n",
            "\n",
            "Р-значення <= 0.05, то кореляція мiж пошкодженнями в голову та тіло != 0\n",
            "\n",
            "-------------------------------------------------------------------\n",
            "\n"
          ],
          "name": "stdout"
        }
      ]
    },
    {
      "metadata": {
        "id": "_2DyZzhtCWjj",
        "colab_type": "text"
      },
      "cell_type": "markdown",
      "source": [
        "Рівень значимості **p** є мірою статистичної достовірності результатів обчислень. Рівень значимості кореляції p менший за 0,05, це означає, що з імовірністю, меншою за 5%, кореляція є випадковою і можна зробити\n",
        "висновок про те, що кореляція є статистично достовірною. Якби було: p > 0,05, то кореляція визначалася як статистично\n",
        "недостовірна."
      ]
    },
    {
      "metadata": {
        "id": "ydyk_WYOMz55",
        "colab_type": "text"
      },
      "cell_type": "markdown",
      "source": [
        "## Регресія"
      ]
    },
    {
      "metadata": {
        "colab_type": "code",
        "outputId": "16f37522-ae7e-4ce6-8c8d-f8589b0a0add",
        "id": "21MCFjMdPxK4",
        "colab": {
          "base_uri": "https://localhost:8080/",
          "height": 394
        }
      },
      "cell_type": "code",
      "source": [
        "df['Fire Rate'].fillna(0, inplace=True)\n",
        "df['Reload Time'].fillna(0, inplace=True)\n",
        "X = df['Fire Rate'].values\n",
        "Y = df['Reload Time'].values\n",
        "X = X.reshape(df['Fire Rate'].shape[0], 1)\n",
        "Y = Y.reshape(df['Reload Time'].shape[0], 1)\n",
        "\n",
        "elements_num = len(df.index)\n",
        "X_train = X[:-(elements_num - (int)(elements_num*0.2))]\n",
        "X_test = X[-((int)(elements_num*0.2)):]\n",
        "               \n",
        "Y_train = Y[:-(elements_num - (int)(elements_num*0.2))]\n",
        "Y_test = Y[-((int)(elements_num*0.2)):]\n",
        "\n",
        "regr = linear_model.LinearRegression()\n",
        "regr.fit(X, Y)\n",
        "\n",
        "plt.title('Результат регресії на всій вибірці')\n",
        "plt.xlabel('Скорострільність')\n",
        "plt.ylabel('Час перезарядки (сек)')\n",
        "\n",
        "plt.scatter(X, Y,  color='blue')\n",
        "plt.plot(X, regr.predict(X), color='orange', linewidth=3)"
      ],
      "execution_count": 0,
      "outputs": [
        {
          "output_type": "execute_result",
          "data": {
            "text/plain": [
              "[<matplotlib.lines.Line2D at 0x7f1ba70b55c0>]"
            ]
          },
          "metadata": {
            "tags": []
          },
          "execution_count": 18
        },
        {
          "output_type": "display_data",
          "data": {
            "image/png": "[encoded data removed]",
            "text/plain": [
              "<matplotlib.figure.Figure at 0x7f1ba71c4860>"
            ]
          },
          "metadata": {
            "tags": []
          }
        }
      ]
    },
    {
      "metadata": {
        "id": "ZqW_c0-1QTvJ",
        "colab_type": "code",
        "outputId": "a74140ab-cbd6-48a8-c7ba-863ff09838e0",
        "colab": {
          "base_uri": "https://localhost:8080/",
          "height": 380
        }
      },
      "cell_type": "code",
      "source": [
        "regr = linear_model.LinearRegression()\n",
        " \n",
        "\n",
        "regr.fit(X_train, Y_train)\n",
        "\n",
        "plt.title('Результат регресії на тестовій вибірці')\n",
        "plt.plot(X_test, regr.predict(X_test), color='green',linewidth=3)"
      ],
      "execution_count": 0,
      "outputs": [
        {
          "output_type": "execute_result",
          "data": {
            "text/plain": [
              "[<matplotlib.lines.Line2D at 0x7f1ba7087240>]"
            ]
          },
          "metadata": {
            "tags": []
          },
          "execution_count": 19
        },
        {
          "output_type": "display_data",
          "data": {
            "image/png": "[encoded data removed]",
            "text/plain": [
              "<matplotlib.figure.Figure at 0x7f1ba9a738d0>"
            ]
          },
          "metadata": {
            "tags": []
          }
        }
      ]
    },
    {
      "metadata": {
        "id": "Xyos0oHKTRg9",
        "colab_type": "text"
      },
      "cell_type": "markdown",
      "source": [
        "## Контрольні запитання\n"
      ]
    },
    {
      "metadata": {
        "id": "D45qefRqTYkB",
        "colab_type": "text"
      },
      "cell_type": "markdown",
      "source": [
        "**1. Опишіть заради якої мети використовують кореляцію та регресію. Які сильні сторони цих інструментів? Які \"підводні камені\"?**\n",
        "\n",
        "Кореляцію використовував з метою дізнатися чи є залежність мiж пошкодженнями в тіло і в голову. Однак, кореляція дуже чутлива до значень, які зустрічаються дуже рідко і відрізняються від інших у вибірці і це може суттєво вплинути на значення коефіцієнта кореляції Пірсона.\n",
        "\n",
        "Регресію використовував з метою дізнатися, як скорострільність зброї впливає на час її перезарядки. Регресія будується на основі \"методу найменших квадратів\",що дозваляє найбільш адекватно її відобразити, тому регресія не є чутливою до критичних крайніх значень."
      ]
    }
  ]
}